{
 "cells": [
  {
   "cell_type": "markdown",
   "id": "d25ae822",
   "metadata": {},
   "source": [
    "# SMS SpamDetection"
   ]
  },
  {
   "cell_type": "code",
   "execution_count": 9,
   "id": "859bd852",
   "metadata": {},
   "outputs": [],
   "source": [
    "import numpy as np\n",
    "import pandas as pd\n",
    "import matplotlib.pyplot as plt"
   ]
  },
  {
   "cell_type": "code",
   "execution_count": 11,
   "id": "c5373e85",
   "metadata": {},
   "outputs": [],
   "source": [
    "dataset=pd.read_csv('spam.csv',encoding='latin1')"
   ]
  },
  {
   "cell_type": "code",
   "execution_count": 12,
   "id": "215cb0a4",
   "metadata": {},
   "outputs": [
    {
     "data": {
      "text/html": [
       "<div>\n",
       "<style scoped>\n",
       "    .dataframe tbody tr th:only-of-type {\n",
       "        vertical-align: middle;\n",
       "    }\n",
       "\n",
       "    .dataframe tbody tr th {\n",
       "        vertical-align: top;\n",
       "    }\n",
       "\n",
       "    .dataframe thead th {\n",
       "        text-align: right;\n",
       "    }\n",
       "</style>\n",
       "<table border=\"1\" class=\"dataframe\">\n",
       "  <thead>\n",
       "    <tr style=\"text-align: right;\">\n",
       "      <th></th>\n",
       "      <th>v1</th>\n",
       "      <th>v2</th>\n",
       "      <th>Unnamed: 2</th>\n",
       "      <th>Unnamed: 3</th>\n",
       "      <th>Unnamed: 4</th>\n",
       "    </tr>\n",
       "  </thead>\n",
       "  <tbody>\n",
       "    <tr>\n",
       "      <th>0</th>\n",
       "      <td>ham</td>\n",
       "      <td>Go until jurong point, crazy.. Available only ...</td>\n",
       "      <td>NaN</td>\n",
       "      <td>NaN</td>\n",
       "      <td>NaN</td>\n",
       "    </tr>\n",
       "    <tr>\n",
       "      <th>1</th>\n",
       "      <td>ham</td>\n",
       "      <td>Ok lar... Joking wif u oni...</td>\n",
       "      <td>NaN</td>\n",
       "      <td>NaN</td>\n",
       "      <td>NaN</td>\n",
       "    </tr>\n",
       "    <tr>\n",
       "      <th>2</th>\n",
       "      <td>spam</td>\n",
       "      <td>Free entry in 2 a wkly comp to win FA Cup fina...</td>\n",
       "      <td>NaN</td>\n",
       "      <td>NaN</td>\n",
       "      <td>NaN</td>\n",
       "    </tr>\n",
       "    <tr>\n",
       "      <th>3</th>\n",
       "      <td>ham</td>\n",
       "      <td>U dun say so early hor... U c already then say...</td>\n",
       "      <td>NaN</td>\n",
       "      <td>NaN</td>\n",
       "      <td>NaN</td>\n",
       "    </tr>\n",
       "    <tr>\n",
       "      <th>4</th>\n",
       "      <td>ham</td>\n",
       "      <td>Nah I don't think he goes to usf, he lives aro...</td>\n",
       "      <td>NaN</td>\n",
       "      <td>NaN</td>\n",
       "      <td>NaN</td>\n",
       "    </tr>\n",
       "    <tr>\n",
       "      <th>...</th>\n",
       "      <td>...</td>\n",
       "      <td>...</td>\n",
       "      <td>...</td>\n",
       "      <td>...</td>\n",
       "      <td>...</td>\n",
       "    </tr>\n",
       "    <tr>\n",
       "      <th>5567</th>\n",
       "      <td>spam</td>\n",
       "      <td>This is the 2nd time we have tried 2 contact u...</td>\n",
       "      <td>NaN</td>\n",
       "      <td>NaN</td>\n",
       "      <td>NaN</td>\n",
       "    </tr>\n",
       "    <tr>\n",
       "      <th>5568</th>\n",
       "      <td>ham</td>\n",
       "      <td>Will Ì_ b going to esplanade fr home?</td>\n",
       "      <td>NaN</td>\n",
       "      <td>NaN</td>\n",
       "      <td>NaN</td>\n",
       "    </tr>\n",
       "    <tr>\n",
       "      <th>5569</th>\n",
       "      <td>ham</td>\n",
       "      <td>Pity, * was in mood for that. So...any other s...</td>\n",
       "      <td>NaN</td>\n",
       "      <td>NaN</td>\n",
       "      <td>NaN</td>\n",
       "    </tr>\n",
       "    <tr>\n",
       "      <th>5570</th>\n",
       "      <td>ham</td>\n",
       "      <td>The guy did some bitching but I acted like i'd...</td>\n",
       "      <td>NaN</td>\n",
       "      <td>NaN</td>\n",
       "      <td>NaN</td>\n",
       "    </tr>\n",
       "    <tr>\n",
       "      <th>5571</th>\n",
       "      <td>ham</td>\n",
       "      <td>Rofl. Its true to its name</td>\n",
       "      <td>NaN</td>\n",
       "      <td>NaN</td>\n",
       "      <td>NaN</td>\n",
       "    </tr>\n",
       "  </tbody>\n",
       "</table>\n",
       "<p>5572 rows × 5 columns</p>\n",
       "</div>"
      ],
      "text/plain": [
       "        v1                                                 v2 Unnamed: 2  \\\n",
       "0      ham  Go until jurong point, crazy.. Available only ...        NaN   \n",
       "1      ham                      Ok lar... Joking wif u oni...        NaN   \n",
       "2     spam  Free entry in 2 a wkly comp to win FA Cup fina...        NaN   \n",
       "3      ham  U dun say so early hor... U c already then say...        NaN   \n",
       "4      ham  Nah I don't think he goes to usf, he lives aro...        NaN   \n",
       "...    ...                                                ...        ...   \n",
       "5567  spam  This is the 2nd time we have tried 2 contact u...        NaN   \n",
       "5568   ham              Will Ì_ b going to esplanade fr home?        NaN   \n",
       "5569   ham  Pity, * was in mood for that. So...any other s...        NaN   \n",
       "5570   ham  The guy did some bitching but I acted like i'd...        NaN   \n",
       "5571   ham                         Rofl. Its true to its name        NaN   \n",
       "\n",
       "     Unnamed: 3 Unnamed: 4  \n",
       "0           NaN        NaN  \n",
       "1           NaN        NaN  \n",
       "2           NaN        NaN  \n",
       "3           NaN        NaN  \n",
       "4           NaN        NaN  \n",
       "...         ...        ...  \n",
       "5567        NaN        NaN  \n",
       "5568        NaN        NaN  \n",
       "5569        NaN        NaN  \n",
       "5570        NaN        NaN  \n",
       "5571        NaN        NaN  \n",
       "\n",
       "[5572 rows x 5 columns]"
      ]
     },
     "execution_count": 12,
     "metadata": {},
     "output_type": "execute_result"
    }
   ],
   "source": [
    "dataset"
   ]
  },
  {
   "cell_type": "code",
   "execution_count": 14,
   "id": "ffebbd92",
   "metadata": {},
   "outputs": [],
   "source": [
    "dataset['Spam']=dataset.v1.apply(lambda x:1 if x=='spam' else 0)\n",
    "dataset.drop(['Unnamed: 2','Unnamed: 3','Unnamed: 4'],axis=1,inplace=True)"
   ]
  },
  {
   "cell_type": "code",
   "execution_count": 15,
   "id": "f16f1a0e",
   "metadata": {},
   "outputs": [
    {
     "data": {
      "text/html": [
       "<div>\n",
       "<style scoped>\n",
       "    .dataframe tbody tr th:only-of-type {\n",
       "        vertical-align: middle;\n",
       "    }\n",
       "\n",
       "    .dataframe tbody tr th {\n",
       "        vertical-align: top;\n",
       "    }\n",
       "\n",
       "    .dataframe thead th {\n",
       "        text-align: right;\n",
       "    }\n",
       "</style>\n",
       "<table border=\"1\" class=\"dataframe\">\n",
       "  <thead>\n",
       "    <tr style=\"text-align: right;\">\n",
       "      <th></th>\n",
       "      <th>v1</th>\n",
       "      <th>v2</th>\n",
       "      <th>Spam</th>\n",
       "    </tr>\n",
       "  </thead>\n",
       "  <tbody>\n",
       "    <tr>\n",
       "      <th>0</th>\n",
       "      <td>ham</td>\n",
       "      <td>Go until jurong point, crazy.. Available only ...</td>\n",
       "      <td>0</td>\n",
       "    </tr>\n",
       "    <tr>\n",
       "      <th>1</th>\n",
       "      <td>ham</td>\n",
       "      <td>Ok lar... Joking wif u oni...</td>\n",
       "      <td>0</td>\n",
       "    </tr>\n",
       "    <tr>\n",
       "      <th>2</th>\n",
       "      <td>spam</td>\n",
       "      <td>Free entry in 2 a wkly comp to win FA Cup fina...</td>\n",
       "      <td>1</td>\n",
       "    </tr>\n",
       "    <tr>\n",
       "      <th>3</th>\n",
       "      <td>ham</td>\n",
       "      <td>U dun say so early hor... U c already then say...</td>\n",
       "      <td>0</td>\n",
       "    </tr>\n",
       "    <tr>\n",
       "      <th>4</th>\n",
       "      <td>ham</td>\n",
       "      <td>Nah I don't think he goes to usf, he lives aro...</td>\n",
       "      <td>0</td>\n",
       "    </tr>\n",
       "    <tr>\n",
       "      <th>...</th>\n",
       "      <td>...</td>\n",
       "      <td>...</td>\n",
       "      <td>...</td>\n",
       "    </tr>\n",
       "    <tr>\n",
       "      <th>5567</th>\n",
       "      <td>spam</td>\n",
       "      <td>This is the 2nd time we have tried 2 contact u...</td>\n",
       "      <td>1</td>\n",
       "    </tr>\n",
       "    <tr>\n",
       "      <th>5568</th>\n",
       "      <td>ham</td>\n",
       "      <td>Will Ì_ b going to esplanade fr home?</td>\n",
       "      <td>0</td>\n",
       "    </tr>\n",
       "    <tr>\n",
       "      <th>5569</th>\n",
       "      <td>ham</td>\n",
       "      <td>Pity, * was in mood for that. So...any other s...</td>\n",
       "      <td>0</td>\n",
       "    </tr>\n",
       "    <tr>\n",
       "      <th>5570</th>\n",
       "      <td>ham</td>\n",
       "      <td>The guy did some bitching but I acted like i'd...</td>\n",
       "      <td>0</td>\n",
       "    </tr>\n",
       "    <tr>\n",
       "      <th>5571</th>\n",
       "      <td>ham</td>\n",
       "      <td>Rofl. Its true to its name</td>\n",
       "      <td>0</td>\n",
       "    </tr>\n",
       "  </tbody>\n",
       "</table>\n",
       "<p>5572 rows × 3 columns</p>\n",
       "</div>"
      ],
      "text/plain": [
       "        v1                                                 v2  Spam\n",
       "0      ham  Go until jurong point, crazy.. Available only ...     0\n",
       "1      ham                      Ok lar... Joking wif u oni...     0\n",
       "2     spam  Free entry in 2 a wkly comp to win FA Cup fina...     1\n",
       "3      ham  U dun say so early hor... U c already then say...     0\n",
       "4      ham  Nah I don't think he goes to usf, he lives aro...     0\n",
       "...    ...                                                ...   ...\n",
       "5567  spam  This is the 2nd time we have tried 2 contact u...     1\n",
       "5568   ham              Will Ì_ b going to esplanade fr home?     0\n",
       "5569   ham  Pity, * was in mood for that. So...any other s...     0\n",
       "5570   ham  The guy did some bitching but I acted like i'd...     0\n",
       "5571   ham                         Rofl. Its true to its name     0\n",
       "\n",
       "[5572 rows x 3 columns]"
      ]
     },
     "execution_count": 15,
     "metadata": {},
     "output_type": "execute_result"
    }
   ],
   "source": [
    "dataset"
   ]
  },
  {
   "cell_type": "markdown",
   "id": "fff1ac46",
   "metadata": {},
   "source": [
    "### Data Analysis"
   ]
  },
  {
   "cell_type": "code",
   "execution_count": 17,
   "id": "3e74fa73",
   "metadata": {},
   "outputs": [
    {
     "data": {
      "text/plain": [
       "<AxesSubplot:xlabel='Spam', ylabel='count'>"
      ]
     },
     "execution_count": 17,
     "metadata": {},
     "output_type": "execute_result"
    },
    {
     "data": {
      "image/png": "[encoded data removed]",
      "text/plain": [
       "<Figure size 640x480 with 1 Axes>"
      ]
     },
     "metadata": {},
     "output_type": "display_data"
    }
   ],
   "source": [
    "import seaborn as sns\n",
    "sns.countplot(x=dataset['Spam'])"
   ]
  },
  {
   "cell_type": "code",
   "execution_count": 22,
   "id": "1cd24220",
   "metadata": {},
   "outputs": [
    {
     "data": {
      "text/plain": [
       "<bound method NDFrame.describe of         v1                                                 v2  Spam\n",
       "0      ham  Go until jurong point, crazy.. Available only ...     0\n",
       "1      ham                      Ok lar... Joking wif u oni...     0\n",
       "2     spam  Free entry in 2 a wkly comp to win FA Cup fina...     1\n",
       "3      ham  U dun say so early hor... U c already then say...     0\n",
       "4      ham  Nah I don't think he goes to usf, he lives aro...     0\n",
       "...    ...                                                ...   ...\n",
       "5567  spam  This is the 2nd time we have tried 2 contact u...     1\n",
       "5568   ham              Will Ì_ b going to esplanade fr home?     0\n",
       "5569   ham  Pity, * was in mood for that. So...any other s...     0\n",
       "5570   ham  The guy did some bitching but I acted like i'd...     0\n",
       "5571   ham                         Rofl. Its true to its name     0\n",
       "\n",
       "[5572 rows x 3 columns]>"
      ]
     },
     "execution_count": 22,
     "metadata": {},
     "output_type": "execute_result"
    }
   ],
   "source": [
    "dataset.describe"
   ]
  },
  {
   "cell_type": "code",
   "execution_count": 23,
   "id": "d2134d9f",
   "metadata": {},
   "outputs": [
    {
     "data": {
      "text/html": [
       "<div>\n",
       "<style scoped>\n",
       "    .dataframe tbody tr th:only-of-type {\n",
       "        vertical-align: middle;\n",
       "    }\n",
       "\n",
       "    .dataframe tbody tr th {\n",
       "        vertical-align: top;\n",
       "    }\n",
       "\n",
       "    .dataframe thead th {\n",
       "        text-align: right;\n",
       "    }\n",
       "</style>\n",
       "<table border=\"1\" class=\"dataframe\">\n",
       "  <thead>\n",
       "    <tr style=\"text-align: right;\">\n",
       "      <th></th>\n",
       "      <th>Spam</th>\n",
       "    </tr>\n",
       "  </thead>\n",
       "  <tbody>\n",
       "    <tr>\n",
       "      <th>Spam</th>\n",
       "      <td>1.0</td>\n",
       "    </tr>\n",
       "  </tbody>\n",
       "</table>\n",
       "</div>"
      ],
      "text/plain": [
       "      Spam\n",
       "Spam   1.0"
      ]
     },
     "execution_count": 23,
     "metadata": {},
     "output_type": "execute_result"
    }
   ],
   "source": [
    "dataset.corr()"
   ]
  },
  {
   "cell_type": "code",
   "execution_count": 24,
   "id": "46d06c48",
   "metadata": {},
   "outputs": [
    {
     "data": {
      "text/html": [
       "<div>\n",
       "<style scoped>\n",
       "    .dataframe tbody tr th:only-of-type {\n",
       "        vertical-align: middle;\n",
       "    }\n",
       "\n",
       "    .dataframe tbody tr th {\n",
       "        vertical-align: top;\n",
       "    }\n",
       "\n",
       "    .dataframe thead th {\n",
       "        text-align: right;\n",
       "    }\n",
       "</style>\n",
       "<table border=\"1\" class=\"dataframe\">\n",
       "  <thead>\n",
       "    <tr style=\"text-align: right;\">\n",
       "      <th></th>\n",
       "      <th>v1</th>\n",
       "      <th>v2</th>\n",
       "      <th>Spam</th>\n",
       "    </tr>\n",
       "  </thead>\n",
       "  <tbody>\n",
       "    <tr>\n",
       "      <th>2</th>\n",
       "      <td>spam</td>\n",
       "      <td>Free entry in 2 a wkly comp to win FA Cup fina...</td>\n",
       "      <td>1</td>\n",
       "    </tr>\n",
       "    <tr>\n",
       "      <th>5</th>\n",
       "      <td>spam</td>\n",
       "      <td>FreeMsg Hey there darling it's been 3 week's n...</td>\n",
       "      <td>1</td>\n",
       "    </tr>\n",
       "    <tr>\n",
       "      <th>8</th>\n",
       "      <td>spam</td>\n",
       "      <td>WINNER!! As a valued network customer you have...</td>\n",
       "      <td>1</td>\n",
       "    </tr>\n",
       "    <tr>\n",
       "      <th>9</th>\n",
       "      <td>spam</td>\n",
       "      <td>Had your mobile 11 months or more? U R entitle...</td>\n",
       "      <td>1</td>\n",
       "    </tr>\n",
       "    <tr>\n",
       "      <th>11</th>\n",
       "      <td>spam</td>\n",
       "      <td>SIX chances to win CASH! From 100 to 20,000 po...</td>\n",
       "      <td>1</td>\n",
       "    </tr>\n",
       "    <tr>\n",
       "      <th>...</th>\n",
       "      <td>...</td>\n",
       "      <td>...</td>\n",
       "      <td>...</td>\n",
       "    </tr>\n",
       "    <tr>\n",
       "      <th>5537</th>\n",
       "      <td>spam</td>\n",
       "      <td>Want explicit SEX in 30 secs? Ring 02073162414...</td>\n",
       "      <td>1</td>\n",
       "    </tr>\n",
       "    <tr>\n",
       "      <th>5540</th>\n",
       "      <td>spam</td>\n",
       "      <td>ASKED 3MOBILE IF 0870 CHATLINES INCLU IN FREE ...</td>\n",
       "      <td>1</td>\n",
       "    </tr>\n",
       "    <tr>\n",
       "      <th>5547</th>\n",
       "      <td>spam</td>\n",
       "      <td>Had your contract mobile 11 Mnths? Latest Moto...</td>\n",
       "      <td>1</td>\n",
       "    </tr>\n",
       "    <tr>\n",
       "      <th>5566</th>\n",
       "      <td>spam</td>\n",
       "      <td>REMINDER FROM O2: To get 2.50 pounds free call...</td>\n",
       "      <td>1</td>\n",
       "    </tr>\n",
       "    <tr>\n",
       "      <th>5567</th>\n",
       "      <td>spam</td>\n",
       "      <td>This is the 2nd time we have tried 2 contact u...</td>\n",
       "      <td>1</td>\n",
       "    </tr>\n",
       "  </tbody>\n",
       "</table>\n",
       "<p>747 rows × 3 columns</p>\n",
       "</div>"
      ],
      "text/plain": [
       "        v1                                                 v2  Spam\n",
       "2     spam  Free entry in 2 a wkly comp to win FA Cup fina...     1\n",
       "5     spam  FreeMsg Hey there darling it's been 3 week's n...     1\n",
       "8     spam  WINNER!! As a valued network customer you have...     1\n",
       "9     spam  Had your mobile 11 months or more? U R entitle...     1\n",
       "11    spam  SIX chances to win CASH! From 100 to 20,000 po...     1\n",
       "...    ...                                                ...   ...\n",
       "5537  spam  Want explicit SEX in 30 secs? Ring 02073162414...     1\n",
       "5540  spam  ASKED 3MOBILE IF 0870 CHATLINES INCLU IN FREE ...     1\n",
       "5547  spam  Had your contract mobile 11 Mnths? Latest Moto...     1\n",
       "5566  spam  REMINDER FROM O2: To get 2.50 pounds free call...     1\n",
       "5567  spam  This is the 2nd time we have tried 2 contact u...     1\n",
       "\n",
       "[747 rows x 3 columns]"
      ]
     },
     "execution_count": 24,
     "metadata": {},
     "output_type": "execute_result"
    }
   ],
   "source": [
    "dataset[dataset.Spam==1]"
   ]
  },
  {
   "cell_type": "code",
   "execution_count": 26,
   "id": "35ad90c5",
   "metadata": {},
   "outputs": [],
   "source": [
    "dataset.drop('v1',axis='columns',inplace=True)"
   ]
  },
  {
   "cell_type": "code",
   "execution_count": 27,
   "id": "198e91d9",
   "metadata": {},
   "outputs": [],
   "source": [
    "x=dataset.v2\n",
    "y=dataset['Spam']\n",
    "from sklearn.model_selection import train_test_split\n",
    "X_train,X_test,Y_train,Y_test=train_test_split(x,y,test_size=0.25)"
   ]
  },
  {
   "cell_type": "code",
   "execution_count": 29,
   "id": "fbee0d9c",
   "metadata": {},
   "outputs": [
    {
     "data": {
      "text/plain": [
       "(4179,)"
      ]
     },
     "execution_count": 29,
     "metadata": {},
     "output_type": "execute_result"
    }
   ],
   "source": [
    "X_train.shape"
   ]
  },
  {
   "cell_type": "code",
   "execution_count": 53,
   "id": "b25058f2",
   "metadata": {},
   "outputs": [
    {
     "data": {
      "text/plain": [
       "(1393,)"
      ]
     },
     "execution_count": 53,
     "metadata": {},
     "output_type": "execute_result"
    }
   ],
   "source": [
    "X_test.shape"
   ]
  },
  {
   "cell_type": "code",
   "execution_count": 32,
   "id": "76cb8382",
   "metadata": {},
   "outputs": [
    {
     "name": "stdout",
     "output_type": "stream",
     "text": [
      "<class 'numpy.ndarray'>\n"
     ]
    }
   ],
   "source": [
    "print(type(X_train.values))\n",
    "X_train_text = [str(x) for x in X_train.values]"
   ]
  },
  {
   "cell_type": "markdown",
   "id": "af8f9e1b",
   "metadata": {},
   "source": [
    "### Count Vectorizer"
   ]
  },
  {
   "cell_type": "code",
   "execution_count": 33,
   "id": "8c01d77a",
   "metadata": {},
   "outputs": [
    {
     "data": {
      "text/plain": [
       "array([[0, 0, 0, ..., 0, 0, 0],\n",
       "       [0, 0, 0, ..., 0, 0, 0],\n",
       "       [0, 0, 0, ..., 0, 0, 0],\n",
       "       ...,\n",
       "       [0, 0, 0, ..., 0, 0, 0],\n",
       "       [0, 0, 0, ..., 0, 0, 0],\n",
       "       [0, 0, 0, ..., 0, 0, 0]], dtype=int64)"
      ]
     },
     "execution_count": 33,
     "metadata": {},
     "output_type": "execute_result"
    }
   ],
   "source": [
    "from sklearn.feature_extraction.text import CountVectorizer\n",
    "V=CountVectorizer()\n",
    "X_train_count=V.fit_transform(X_train_text)\n",
    "X_train_count.toarray()"
   ]
  },
  {
   "cell_type": "markdown",
   "id": "78480296",
   "metadata": {},
   "source": [
    "### Modle Evaluation"
   ]
  },
  {
   "cell_type": "code",
   "execution_count": 34,
   "id": "1347143e",
   "metadata": {},
   "outputs": [
    {
     "data": {
      "text/plain": [
       "0.9849246231155779"
      ]
     },
     "execution_count": 34,
     "metadata": {},
     "output_type": "execute_result"
    }
   ],
   "source": [
    "from sklearn.naive_bayes import MultinomialNB\n",
    "model=MultinomialNB()\n",
    "model.fit(X_train_count,Y_train)\n",
    "X_test_count=V.transform(X_test)\n",
    "model.score(X_test_count,Y_test)"
   ]
  },
  {
   "cell_type": "markdown",
   "id": "a9097e7d",
   "metadata": {},
   "source": [
    "### Using Pipelining"
   ]
  },
  {
   "cell_type": "code",
   "execution_count": 35,
   "id": "a67ccfca",
   "metadata": {},
   "outputs": [
    {
     "data": {
      "text/plain": [
       "Pipeline(steps=[('vectorizer', CountVectorizer()), ('nb', MultinomialNB())])"
      ]
     },
     "execution_count": 35,
     "metadata": {},
     "output_type": "execute_result"
    }
   ],
   "source": [
    "from sklearn.pipeline import Pipeline\n",
    "from sklearn.naive_bayes import MultinomialNB\n",
    "clf=Pipeline([\n",
    "    ('vectorizer',CountVectorizer()),\n",
    "    ('nb',MultinomialNB())\n",
    "])\n",
    "X_train_test=[str(x) for x in X_train.values]\n",
    "clf.fit(X_train_test,Y_train)"
   ]
  },
  {
   "cell_type": "code",
   "execution_count": 36,
   "id": "a396d9e7",
   "metadata": {},
   "outputs": [
    {
     "data": {
      "text/plain": [
       "0.9849246231155779"
      ]
     },
     "execution_count": 36,
     "metadata": {},
     "output_type": "execute_result"
    }
   ],
   "source": [
    "clf.score(X_test,Y_test)"
   ]
  },
  {
   "cell_type": "code",
   "execution_count": 39,
   "id": "5a28393c",
   "metadata": {},
   "outputs": [],
   "source": [
    "Email=['Hello sir Good Morning','I LOVE YOU DAD and MOM','YOU HAVE WON! As a valued Vodafone customer our computer has picked YOU to win a å£150 prize. To collect is easy. Just call 09061743386 ']\n",
    "Email_text=V.transform(Email)"
   ]
  },
  {
   "cell_type": "code",
   "execution_count": 40,
   "id": "fd84ec95",
   "metadata": {},
   "outputs": [
    {
     "data": {
      "text/plain": [
       "array([0, 0, 1], dtype=int64)"
      ]
     },
     "execution_count": 40,
     "metadata": {},
     "output_type": "execute_result"
    }
   ],
   "source": [
    "model.predict(Email_text)"
   ]
  },
  {
   "cell_type": "markdown",
   "id": "e7e52d50",
   "metadata": {},
   "source": [
    "# PyCaret"
   ]
  },
  {
   "cell_type": "markdown",
   "id": "de5067d5",
   "metadata": {},
   "source": [
    "I'm about to employ the specialized PyCaret module for this particular dataset, which is a powerful tool designed to enhance our machine learning and data analysis workflow. PyCaret simplifies the process of preparing data, building models, and assessing their performance, making it a valuable resource for our analysis."
   ]
  },
  {
   "cell_type": "code",
   "execution_count": 41,
   "id": "563c34e8",
   "metadata": {},
   "outputs": [],
   "source": [
    "from pycaret.classification import *"
   ]
  },
  {
   "cell_type": "code",
   "execution_count": 42,
   "id": "ae47be17",
   "metadata": {},
   "outputs": [
    {
     "data": {
      "text/html": [
       "<style type=\"text/css\">\n",
       "#T_91c5f_row8_col1 {\n",
       "  background-color: lightgreen;\n",
       "}\n",
       "</style>\n",
       "<table id=\"T_91c5f\">\n",
       "  <thead>\n",
       "    <tr>\n",
       "      <th class=\"blank level0\" >&nbsp;</th>\n",
       "      <th id=\"T_91c5f_level0_col0\" class=\"col_heading level0 col0\" >Description</th>\n",
       "      <th id=\"T_91c5f_level0_col1\" class=\"col_heading level0 col1\" >Value</th>\n",
       "    </tr>\n",
       "  </thead>\n",
       "  <tbody>\n",
       "    <tr>\n",
       "      <th id=\"T_91c5f_level0_row0\" class=\"row_heading level0 row0\" >0</th>\n",
       "      <td id=\"T_91c5f_row0_col0\" class=\"data row0 col0\" >Session id</td>\n",
       "      <td id=\"T_91c5f_row0_col1\" class=\"data row0 col1\" >12</td>\n",
       "    </tr>\n",
       "    <tr>\n",
       "      <th id=\"T_91c5f_level0_row1\" class=\"row_heading level0 row1\" >1</th>\n",
       "      <td id=\"T_91c5f_row1_col0\" class=\"data row1 col0\" >Target</td>\n",
       "      <td id=\"T_91c5f_row1_col1\" class=\"data row1 col1\" >Spam</td>\n",
       "    </tr>\n",
       "    <tr>\n",
       "      <th id=\"T_91c5f_level0_row2\" class=\"row_heading level0 row2\" >2</th>\n",
       "      <td id=\"T_91c5f_row2_col0\" class=\"data row2 col0\" >Target type</td>\n",
       "      <td id=\"T_91c5f_row2_col1\" class=\"data row2 col1\" >Binary</td>\n",
       "    </tr>\n",
       "    <tr>\n",
       "      <th id=\"T_91c5f_level0_row3\" class=\"row_heading level0 row3\" >3</th>\n",
       "      <td id=\"T_91c5f_row3_col0\" class=\"data row3 col0\" >Original data shape</td>\n",
       "      <td id=\"T_91c5f_row3_col1\" class=\"data row3 col1\" >(5572, 2)</td>\n",
       "    </tr>\n",
       "    <tr>\n",
       "      <th id=\"T_91c5f_level0_row4\" class=\"row_heading level0 row4\" >4</th>\n",
       "      <td id=\"T_91c5f_row4_col0\" class=\"data row4 col0\" >Transformed data shape</td>\n",
       "      <td id=\"T_91c5f_row4_col1\" class=\"data row4 col1\" >(5572, 2)</td>\n",
       "    </tr>\n",
       "    <tr>\n",
       "      <th id=\"T_91c5f_level0_row5\" class=\"row_heading level0 row5\" >5</th>\n",
       "      <td id=\"T_91c5f_row5_col0\" class=\"data row5 col0\" >Transformed train set shape</td>\n",
       "      <td id=\"T_91c5f_row5_col1\" class=\"data row5 col1\" >(3900, 2)</td>\n",
       "    </tr>\n",
       "    <tr>\n",
       "      <th id=\"T_91c5f_level0_row6\" class=\"row_heading level0 row6\" >6</th>\n",
       "      <td id=\"T_91c5f_row6_col0\" class=\"data row6 col0\" >Transformed test set shape</td>\n",
       "      <td id=\"T_91c5f_row6_col1\" class=\"data row6 col1\" >(1672, 2)</td>\n",
       "    </tr>\n",
       "    <tr>\n",
       "      <th id=\"T_91c5f_level0_row7\" class=\"row_heading level0 row7\" >7</th>\n",
       "      <td id=\"T_91c5f_row7_col0\" class=\"data row7 col0\" >Categorical features</td>\n",
       "      <td id=\"T_91c5f_row7_col1\" class=\"data row7 col1\" >1</td>\n",
       "    </tr>\n",
       "    <tr>\n",
       "      <th id=\"T_91c5f_level0_row8\" class=\"row_heading level0 row8\" >8</th>\n",
       "      <td id=\"T_91c5f_row8_col0\" class=\"data row8 col0\" >Preprocess</td>\n",
       "      <td id=\"T_91c5f_row8_col1\" class=\"data row8 col1\" >True</td>\n",
       "    </tr>\n",
       "    <tr>\n",
       "      <th id=\"T_91c5f_level0_row9\" class=\"row_heading level0 row9\" >9</th>\n",
       "      <td id=\"T_91c5f_row9_col0\" class=\"data row9 col0\" >Imputation type</td>\n",
       "      <td id=\"T_91c5f_row9_col1\" class=\"data row9 col1\" >simple</td>\n",
       "    </tr>\n",
       "    <tr>\n",
       "      <th id=\"T_91c5f_level0_row10\" class=\"row_heading level0 row10\" >10</th>\n",
       "      <td id=\"T_91c5f_row10_col0\" class=\"data row10 col0\" >Numeric imputation</td>\n",
       "      <td id=\"T_91c5f_row10_col1\" class=\"data row10 col1\" >mean</td>\n",
       "    </tr>\n",
       "    <tr>\n",
       "      <th id=\"T_91c5f_level0_row11\" class=\"row_heading level0 row11\" >11</th>\n",
       "      <td id=\"T_91c5f_row11_col0\" class=\"data row11 col0\" >Categorical imputation</td>\n",
       "      <td id=\"T_91c5f_row11_col1\" class=\"data row11 col1\" >mode</td>\n",
       "    </tr>\n",
       "    <tr>\n",
       "      <th id=\"T_91c5f_level0_row12\" class=\"row_heading level0 row12\" >12</th>\n",
       "      <td id=\"T_91c5f_row12_col0\" class=\"data row12 col0\" >Maximum one-hot encoding</td>\n",
       "      <td id=\"T_91c5f_row12_col1\" class=\"data row12 col1\" >25</td>\n",
       "    </tr>\n",
       "    <tr>\n",
       "      <th id=\"T_91c5f_level0_row13\" class=\"row_heading level0 row13\" >13</th>\n",
       "      <td id=\"T_91c5f_row13_col0\" class=\"data row13 col0\" >Encoding method</td>\n",
       "      <td id=\"T_91c5f_row13_col1\" class=\"data row13 col1\" >None</td>\n",
       "    </tr>\n",
       "    <tr>\n",
       "      <th id=\"T_91c5f_level0_row14\" class=\"row_heading level0 row14\" >14</th>\n",
       "      <td id=\"T_91c5f_row14_col0\" class=\"data row14 col0\" >Fold Generator</td>\n",
       "      <td id=\"T_91c5f_row14_col1\" class=\"data row14 col1\" >StratifiedKFold</td>\n",
       "    </tr>\n",
       "    <tr>\n",
       "      <th id=\"T_91c5f_level0_row15\" class=\"row_heading level0 row15\" >15</th>\n",
       "      <td id=\"T_91c5f_row15_col0\" class=\"data row15 col0\" >Fold Number</td>\n",
       "      <td id=\"T_91c5f_row15_col1\" class=\"data row15 col1\" >10</td>\n",
       "    </tr>\n",
       "    <tr>\n",
       "      <th id=\"T_91c5f_level0_row16\" class=\"row_heading level0 row16\" >16</th>\n",
       "      <td id=\"T_91c5f_row16_col0\" class=\"data row16 col0\" >CPU Jobs</td>\n",
       "      <td id=\"T_91c5f_row16_col1\" class=\"data row16 col1\" >-1</td>\n",
       "    </tr>\n",
       "    <tr>\n",
       "      <th id=\"T_91c5f_level0_row17\" class=\"row_heading level0 row17\" >17</th>\n",
       "      <td id=\"T_91c5f_row17_col0\" class=\"data row17 col0\" >Use GPU</td>\n",
       "      <td id=\"T_91c5f_row17_col1\" class=\"data row17 col1\" >False</td>\n",
       "    </tr>\n",
       "    <tr>\n",
       "      <th id=\"T_91c5f_level0_row18\" class=\"row_heading level0 row18\" >18</th>\n",
       "      <td id=\"T_91c5f_row18_col0\" class=\"data row18 col0\" >Log Experiment</td>\n",
       "      <td id=\"T_91c5f_row18_col1\" class=\"data row18 col1\" >False</td>\n",
       "    </tr>\n",
       "    <tr>\n",
       "      <th id=\"T_91c5f_level0_row19\" class=\"row_heading level0 row19\" >19</th>\n",
       "      <td id=\"T_91c5f_row19_col0\" class=\"data row19 col0\" >Experiment Name</td>\n",
       "      <td id=\"T_91c5f_row19_col1\" class=\"data row19 col1\" >clf-default-name</td>\n",
       "    </tr>\n",
       "    <tr>\n",
       "      <th id=\"T_91c5f_level0_row20\" class=\"row_heading level0 row20\" >20</th>\n",
       "      <td id=\"T_91c5f_row20_col0\" class=\"data row20 col0\" >USI</td>\n",
       "      <td id=\"T_91c5f_row20_col1\" class=\"data row20 col1\" >5621</td>\n",
       "    </tr>\n",
       "  </tbody>\n",
       "</table>\n"
      ],
      "text/plain": [
       "<pandas.io.formats.style.Styler at 0x1e22971e2b0>"
      ]
     },
     "metadata": {},
     "output_type": "display_data"
    }
   ],
   "source": [
    "classificate=setup(data=dataset,target='Spam',session_id=12)"
   ]
  },
  {
   "cell_type": "code",
   "execution_count": 43,
   "id": "598d9e5e",
   "metadata": {},
   "outputs": [
    {
     "data": {
      "text/html": [],
      "text/plain": [
       "<IPython.core.display.HTML object>"
      ]
     },
     "metadata": {},
     "output_type": "display_data"
    },
    {
     "data": {
      "text/html": [
       "<style type=\"text/css\">\n",
       "#T_3daa4 th {\n",
       "  text-align: left;\n",
       "}\n",
       "#T_3daa4_row0_col0, #T_3daa4_row1_col0, #T_3daa4_row1_col2, #T_3daa4_row2_col0, #T_3daa4_row3_col0, #T_3daa4_row3_col2, #T_3daa4_row4_col0, #T_3daa4_row4_col2, #T_3daa4_row5_col0, #T_3daa4_row5_col2, #T_3daa4_row6_col0, #T_3daa4_row6_col2, #T_3daa4_row7_col0, #T_3daa4_row8_col0, #T_3daa4_row8_col2, #T_3daa4_row9_col0, #T_3daa4_row9_col2, #T_3daa4_row10_col0, #T_3daa4_row11_col0, #T_3daa4_row12_col0, #T_3daa4_row12_col2, #T_3daa4_row13_col0, #T_3daa4_row13_col1, #T_3daa4_row13_col2, #T_3daa4_row13_col3, #T_3daa4_row13_col4, #T_3daa4_row13_col5, #T_3daa4_row13_col6, #T_3daa4_row13_col7 {\n",
       "  text-align: left;\n",
       "}\n",
       "#T_3daa4_row0_col1, #T_3daa4_row0_col2, #T_3daa4_row0_col3, #T_3daa4_row0_col4, #T_3daa4_row0_col5, #T_3daa4_row0_col6, #T_3daa4_row0_col7, #T_3daa4_row1_col1, #T_3daa4_row1_col3, #T_3daa4_row1_col4, #T_3daa4_row1_col5, #T_3daa4_row1_col6, #T_3daa4_row1_col7, #T_3daa4_row2_col1, #T_3daa4_row2_col2, #T_3daa4_row2_col3, #T_3daa4_row2_col4, #T_3daa4_row2_col5, #T_3daa4_row2_col6, #T_3daa4_row2_col7, #T_3daa4_row3_col1, #T_3daa4_row3_col3, #T_3daa4_row3_col4, #T_3daa4_row3_col5, #T_3daa4_row3_col6, #T_3daa4_row3_col7, #T_3daa4_row4_col1, #T_3daa4_row4_col3, #T_3daa4_row4_col4, #T_3daa4_row4_col5, #T_3daa4_row4_col6, #T_3daa4_row4_col7, #T_3daa4_row5_col1, #T_3daa4_row5_col3, #T_3daa4_row5_col4, #T_3daa4_row5_col5, #T_3daa4_row5_col6, #T_3daa4_row5_col7, #T_3daa4_row6_col1, #T_3daa4_row6_col3, #T_3daa4_row6_col4, #T_3daa4_row6_col5, #T_3daa4_row6_col6, #T_3daa4_row6_col7, #T_3daa4_row7_col1, #T_3daa4_row7_col2, #T_3daa4_row7_col3, #T_3daa4_row7_col4, #T_3daa4_row7_col5, #T_3daa4_row7_col6, #T_3daa4_row7_col7, #T_3daa4_row8_col1, #T_3daa4_row8_col3, #T_3daa4_row8_col4, #T_3daa4_row8_col5, #T_3daa4_row8_col6, #T_3daa4_row8_col7, #T_3daa4_row9_col1, #T_3daa4_row9_col3, #T_3daa4_row9_col4, #T_3daa4_row9_col5, #T_3daa4_row9_col6, #T_3daa4_row9_col7, #T_3daa4_row10_col1, #T_3daa4_row10_col2, #T_3daa4_row10_col3, #T_3daa4_row10_col4, #T_3daa4_row10_col5, #T_3daa4_row10_col6, #T_3daa4_row10_col7, #T_3daa4_row11_col1, #T_3daa4_row11_col2, #T_3daa4_row11_col3, #T_3daa4_row11_col4, #T_3daa4_row11_col5, #T_3daa4_row11_col6, #T_3daa4_row11_col7, #T_3daa4_row12_col1, #T_3daa4_row12_col3, #T_3daa4_row12_col4, #T_3daa4_row12_col5, #T_3daa4_row12_col6, #T_3daa4_row12_col7 {\n",
       "  text-align: left;\n",
       "  background-color: yellow;\n",
       "}\n",
       "#T_3daa4_row0_col8, #T_3daa4_row1_col8, #T_3daa4_row2_col8, #T_3daa4_row4_col8, #T_3daa4_row5_col8, #T_3daa4_row6_col8, #T_3daa4_row7_col8, #T_3daa4_row8_col8, #T_3daa4_row9_col8, #T_3daa4_row10_col8, #T_3daa4_row11_col8, #T_3daa4_row12_col8, #T_3daa4_row13_col8 {\n",
       "  text-align: left;\n",
       "  background-color: lightgrey;\n",
       "}\n",
       "#T_3daa4_row3_col8 {\n",
       "  text-align: left;\n",
       "  background-color: yellow;\n",
       "  background-color: lightgrey;\n",
       "}\n",
       "</style>\n",
       "<table id=\"T_3daa4\">\n",
       "  <thead>\n",
       "    <tr>\n",
       "      <th class=\"blank level0\" >&nbsp;</th>\n",
       "      <th id=\"T_3daa4_level0_col0\" class=\"col_heading level0 col0\" >Model</th>\n",
       "      <th id=\"T_3daa4_level0_col1\" class=\"col_heading level0 col1\" >Accuracy</th>\n",
       "      <th id=\"T_3daa4_level0_col2\" class=\"col_heading level0 col2\" >AUC</th>\n",
       "      <th id=\"T_3daa4_level0_col3\" class=\"col_heading level0 col3\" >Recall</th>\n",
       "      <th id=\"T_3daa4_level0_col4\" class=\"col_heading level0 col4\" >Prec.</th>\n",
       "      <th id=\"T_3daa4_level0_col5\" class=\"col_heading level0 col5\" >F1</th>\n",
       "      <th id=\"T_3daa4_level0_col6\" class=\"col_heading level0 col6\" >Kappa</th>\n",
       "      <th id=\"T_3daa4_level0_col7\" class=\"col_heading level0 col7\" >MCC</th>\n",
       "      <th id=\"T_3daa4_level0_col8\" class=\"col_heading level0 col8\" >TT (Sec)</th>\n",
       "    </tr>\n",
       "  </thead>\n",
       "  <tbody>\n",
       "    <tr>\n",
       "      <th id=\"T_3daa4_level0_row0\" class=\"row_heading level0 row0\" >lr</th>\n",
       "      <td id=\"T_3daa4_row0_col0\" class=\"data row0 col0\" >Logistic Regression</td>\n",
       "      <td id=\"T_3daa4_row0_col1\" class=\"data row0 col1\" >0.8874</td>\n",
       "      <td id=\"T_3daa4_row0_col2\" class=\"data row0 col2\" >0.6147</td>\n",
       "      <td id=\"T_3daa4_row0_col3\" class=\"data row0 col3\" >0.1605</td>\n",
       "      <td id=\"T_3daa4_row0_col4\" class=\"data row0 col4\" >1.0000</td>\n",
       "      <td id=\"T_3daa4_row0_col5\" class=\"data row0 col5\" >0.2740</td>\n",
       "      <td id=\"T_3daa4_row0_col6\" class=\"data row0 col6\" >0.2469</td>\n",
       "      <td id=\"T_3daa4_row0_col7\" class=\"data row0 col7\" >0.3731</td>\n",
       "      <td id=\"T_3daa4_row0_col8\" class=\"data row0 col8\" >2.6920</td>\n",
       "    </tr>\n",
       "    <tr>\n",
       "      <th id=\"T_3daa4_level0_row1\" class=\"row_heading level0 row1\" >knn</th>\n",
       "      <td id=\"T_3daa4_row1_col0\" class=\"data row1 col0\" >K Neighbors Classifier</td>\n",
       "      <td id=\"T_3daa4_row1_col1\" class=\"data row1 col1\" >0.8874</td>\n",
       "      <td id=\"T_3daa4_row1_col2\" class=\"data row1 col2\" >0.5802</td>\n",
       "      <td id=\"T_3daa4_row1_col3\" class=\"data row1 col3\" >0.1605</td>\n",
       "      <td id=\"T_3daa4_row1_col4\" class=\"data row1 col4\" >1.0000</td>\n",
       "      <td id=\"T_3daa4_row1_col5\" class=\"data row1 col5\" >0.2740</td>\n",
       "      <td id=\"T_3daa4_row1_col6\" class=\"data row1 col6\" >0.2469</td>\n",
       "      <td id=\"T_3daa4_row1_col7\" class=\"data row1 col7\" >0.3731</td>\n",
       "      <td id=\"T_3daa4_row1_col8\" class=\"data row1 col8\" >0.8470</td>\n",
       "    </tr>\n",
       "    <tr>\n",
       "      <th id=\"T_3daa4_level0_row2\" class=\"row_heading level0 row2\" >nb</th>\n",
       "      <td id=\"T_3daa4_row2_col0\" class=\"data row2 col0\" >Naive Bayes</td>\n",
       "      <td id=\"T_3daa4_row2_col1\" class=\"data row2 col1\" >0.8874</td>\n",
       "      <td id=\"T_3daa4_row2_col2\" class=\"data row2 col2\" >0.6147</td>\n",
       "      <td id=\"T_3daa4_row2_col3\" class=\"data row2 col3\" >0.1605</td>\n",
       "      <td id=\"T_3daa4_row2_col4\" class=\"data row2 col4\" >1.0000</td>\n",
       "      <td id=\"T_3daa4_row2_col5\" class=\"data row2 col5\" >0.2740</td>\n",
       "      <td id=\"T_3daa4_row2_col6\" class=\"data row2 col6\" >0.2469</td>\n",
       "      <td id=\"T_3daa4_row2_col7\" class=\"data row2 col7\" >0.3731</td>\n",
       "      <td id=\"T_3daa4_row2_col8\" class=\"data row2 col8\" >0.7660</td>\n",
       "    </tr>\n",
       "    <tr>\n",
       "      <th id=\"T_3daa4_level0_row3\" class=\"row_heading level0 row3\" >dt</th>\n",
       "      <td id=\"T_3daa4_row3_col0\" class=\"data row3 col0\" >Decision Tree Classifier</td>\n",
       "      <td id=\"T_3daa4_row3_col1\" class=\"data row3 col1\" >0.8874</td>\n",
       "      <td id=\"T_3daa4_row3_col2\" class=\"data row3 col2\" >0.5802</td>\n",
       "      <td id=\"T_3daa4_row3_col3\" class=\"data row3 col3\" >0.1605</td>\n",
       "      <td id=\"T_3daa4_row3_col4\" class=\"data row3 col4\" >1.0000</td>\n",
       "      <td id=\"T_3daa4_row3_col5\" class=\"data row3 col5\" >0.2740</td>\n",
       "      <td id=\"T_3daa4_row3_col6\" class=\"data row3 col6\" >0.2469</td>\n",
       "      <td id=\"T_3daa4_row3_col7\" class=\"data row3 col7\" >0.3731</td>\n",
       "      <td id=\"T_3daa4_row3_col8\" class=\"data row3 col8\" >0.7440</td>\n",
       "    </tr>\n",
       "    <tr>\n",
       "      <th id=\"T_3daa4_level0_row4\" class=\"row_heading level0 row4\" >svm</th>\n",
       "      <td id=\"T_3daa4_row4_col0\" class=\"data row4 col0\" >SVM - Linear Kernel</td>\n",
       "      <td id=\"T_3daa4_row4_col1\" class=\"data row4 col1\" >0.8874</td>\n",
       "      <td id=\"T_3daa4_row4_col2\" class=\"data row4 col2\" >0.0000</td>\n",
       "      <td id=\"T_3daa4_row4_col3\" class=\"data row4 col3\" >0.1605</td>\n",
       "      <td id=\"T_3daa4_row4_col4\" class=\"data row4 col4\" >1.0000</td>\n",
       "      <td id=\"T_3daa4_row4_col5\" class=\"data row4 col5\" >0.2740</td>\n",
       "      <td id=\"T_3daa4_row4_col6\" class=\"data row4 col6\" >0.2469</td>\n",
       "      <td id=\"T_3daa4_row4_col7\" class=\"data row4 col7\" >0.3731</td>\n",
       "      <td id=\"T_3daa4_row4_col8\" class=\"data row4 col8\" >0.8200</td>\n",
       "    </tr>\n",
       "    <tr>\n",
       "      <th id=\"T_3daa4_level0_row5\" class=\"row_heading level0 row5\" >ridge</th>\n",
       "      <td id=\"T_3daa4_row5_col0\" class=\"data row5 col0\" >Ridge Classifier</td>\n",
       "      <td id=\"T_3daa4_row5_col1\" class=\"data row5 col1\" >0.8874</td>\n",
       "      <td id=\"T_3daa4_row5_col2\" class=\"data row5 col2\" >0.0000</td>\n",
       "      <td id=\"T_3daa4_row5_col3\" class=\"data row5 col3\" >0.1605</td>\n",
       "      <td id=\"T_3daa4_row5_col4\" class=\"data row5 col4\" >1.0000</td>\n",
       "      <td id=\"T_3daa4_row5_col5\" class=\"data row5 col5\" >0.2740</td>\n",
       "      <td id=\"T_3daa4_row5_col6\" class=\"data row5 col6\" >0.2469</td>\n",
       "      <td id=\"T_3daa4_row5_col7\" class=\"data row5 col7\" >0.3731</td>\n",
       "      <td id=\"T_3daa4_row5_col8\" class=\"data row5 col8\" >0.8300</td>\n",
       "    </tr>\n",
       "    <tr>\n",
       "      <th id=\"T_3daa4_level0_row6\" class=\"row_heading level0 row6\" >rf</th>\n",
       "      <td id=\"T_3daa4_row6_col0\" class=\"data row6 col0\" >Random Forest Classifier</td>\n",
       "      <td id=\"T_3daa4_row6_col1\" class=\"data row6 col1\" >0.8874</td>\n",
       "      <td id=\"T_3daa4_row6_col2\" class=\"data row6 col2\" >0.5802</td>\n",
       "      <td id=\"T_3daa4_row6_col3\" class=\"data row6 col3\" >0.1605</td>\n",
       "      <td id=\"T_3daa4_row6_col4\" class=\"data row6 col4\" >1.0000</td>\n",
       "      <td id=\"T_3daa4_row6_col5\" class=\"data row6 col5\" >0.2740</td>\n",
       "      <td id=\"T_3daa4_row6_col6\" class=\"data row6 col6\" >0.2469</td>\n",
       "      <td id=\"T_3daa4_row6_col7\" class=\"data row6 col7\" >0.3731</td>\n",
       "      <td id=\"T_3daa4_row6_col8\" class=\"data row6 col8\" >1.0260</td>\n",
       "    </tr>\n",
       "    <tr>\n",
       "      <th id=\"T_3daa4_level0_row7\" class=\"row_heading level0 row7\" >qda</th>\n",
       "      <td id=\"T_3daa4_row7_col0\" class=\"data row7 col0\" >Quadratic Discriminant Analysis</td>\n",
       "      <td id=\"T_3daa4_row7_col1\" class=\"data row7 col1\" >0.8874</td>\n",
       "      <td id=\"T_3daa4_row7_col2\" class=\"data row7 col2\" >0.6147</td>\n",
       "      <td id=\"T_3daa4_row7_col3\" class=\"data row7 col3\" >0.1605</td>\n",
       "      <td id=\"T_3daa4_row7_col4\" class=\"data row7 col4\" >1.0000</td>\n",
       "      <td id=\"T_3daa4_row7_col5\" class=\"data row7 col5\" >0.2740</td>\n",
       "      <td id=\"T_3daa4_row7_col6\" class=\"data row7 col6\" >0.2469</td>\n",
       "      <td id=\"T_3daa4_row7_col7\" class=\"data row7 col7\" >0.3731</td>\n",
       "      <td id=\"T_3daa4_row7_col8\" class=\"data row7 col8\" >1.5240</td>\n",
       "    </tr>\n",
       "    <tr>\n",
       "      <th id=\"T_3daa4_level0_row8\" class=\"row_heading level0 row8\" >ada</th>\n",
       "      <td id=\"T_3daa4_row8_col0\" class=\"data row8 col0\" >Ada Boost Classifier</td>\n",
       "      <td id=\"T_3daa4_row8_col1\" class=\"data row8 col1\" >0.8874</td>\n",
       "      <td id=\"T_3daa4_row8_col2\" class=\"data row8 col2\" >0.5802</td>\n",
       "      <td id=\"T_3daa4_row8_col3\" class=\"data row8 col3\" >0.1605</td>\n",
       "      <td id=\"T_3daa4_row8_col4\" class=\"data row8 col4\" >1.0000</td>\n",
       "      <td id=\"T_3daa4_row8_col5\" class=\"data row8 col5\" >0.2740</td>\n",
       "      <td id=\"T_3daa4_row8_col6\" class=\"data row8 col6\" >0.2469</td>\n",
       "      <td id=\"T_3daa4_row8_col7\" class=\"data row8 col7\" >0.3731</td>\n",
       "      <td id=\"T_3daa4_row8_col8\" class=\"data row8 col8\" >0.7570</td>\n",
       "    </tr>\n",
       "    <tr>\n",
       "      <th id=\"T_3daa4_level0_row9\" class=\"row_heading level0 row9\" >gbc</th>\n",
       "      <td id=\"T_3daa4_row9_col0\" class=\"data row9 col0\" >Gradient Boosting Classifier</td>\n",
       "      <td id=\"T_3daa4_row9_col1\" class=\"data row9 col1\" >0.8874</td>\n",
       "      <td id=\"T_3daa4_row9_col2\" class=\"data row9 col2\" >0.5817</td>\n",
       "      <td id=\"T_3daa4_row9_col3\" class=\"data row9 col3\" >0.1605</td>\n",
       "      <td id=\"T_3daa4_row9_col4\" class=\"data row9 col4\" >1.0000</td>\n",
       "      <td id=\"T_3daa4_row9_col5\" class=\"data row9 col5\" >0.2740</td>\n",
       "      <td id=\"T_3daa4_row9_col6\" class=\"data row9 col6\" >0.2469</td>\n",
       "      <td id=\"T_3daa4_row9_col7\" class=\"data row9 col7\" >0.3731</td>\n",
       "      <td id=\"T_3daa4_row9_col8\" class=\"data row9 col8\" >0.8440</td>\n",
       "    </tr>\n",
       "    <tr>\n",
       "      <th id=\"T_3daa4_level0_row10\" class=\"row_heading level0 row10\" >lda</th>\n",
       "      <td id=\"T_3daa4_row10_col0\" class=\"data row10 col0\" >Linear Discriminant Analysis</td>\n",
       "      <td id=\"T_3daa4_row10_col1\" class=\"data row10 col1\" >0.8874</td>\n",
       "      <td id=\"T_3daa4_row10_col2\" class=\"data row10 col2\" >0.6147</td>\n",
       "      <td id=\"T_3daa4_row10_col3\" class=\"data row10 col3\" >0.1605</td>\n",
       "      <td id=\"T_3daa4_row10_col4\" class=\"data row10 col4\" >1.0000</td>\n",
       "      <td id=\"T_3daa4_row10_col5\" class=\"data row10 col5\" >0.2740</td>\n",
       "      <td id=\"T_3daa4_row10_col6\" class=\"data row10 col6\" >0.2469</td>\n",
       "      <td id=\"T_3daa4_row10_col7\" class=\"data row10 col7\" >0.3731</td>\n",
       "      <td id=\"T_3daa4_row10_col8\" class=\"data row10 col8\" >0.9490</td>\n",
       "    </tr>\n",
       "    <tr>\n",
       "      <th id=\"T_3daa4_level0_row11\" class=\"row_heading level0 row11\" >et</th>\n",
       "      <td id=\"T_3daa4_row11_col0\" class=\"data row11 col0\" >Extra Trees Classifier</td>\n",
       "      <td id=\"T_3daa4_row11_col1\" class=\"data row11 col1\" >0.8874</td>\n",
       "      <td id=\"T_3daa4_row11_col2\" class=\"data row11 col2\" >0.6147</td>\n",
       "      <td id=\"T_3daa4_row11_col3\" class=\"data row11 col3\" >0.1605</td>\n",
       "      <td id=\"T_3daa4_row11_col4\" class=\"data row11 col4\" >1.0000</td>\n",
       "      <td id=\"T_3daa4_row11_col5\" class=\"data row11 col5\" >0.2740</td>\n",
       "      <td id=\"T_3daa4_row11_col6\" class=\"data row11 col6\" >0.2469</td>\n",
       "      <td id=\"T_3daa4_row11_col7\" class=\"data row11 col7\" >0.3731</td>\n",
       "      <td id=\"T_3daa4_row11_col8\" class=\"data row11 col8\" >1.1960</td>\n",
       "    </tr>\n",
       "    <tr>\n",
       "      <th id=\"T_3daa4_level0_row12\" class=\"row_heading level0 row12\" >lightgbm</th>\n",
       "      <td id=\"T_3daa4_row12_col0\" class=\"data row12 col0\" >Light Gradient Boosting Machine</td>\n",
       "      <td id=\"T_3daa4_row12_col1\" class=\"data row12 col1\" >0.8874</td>\n",
       "      <td id=\"T_3daa4_row12_col2\" class=\"data row12 col2\" >0.5686</td>\n",
       "      <td id=\"T_3daa4_row12_col3\" class=\"data row12 col3\" >0.1605</td>\n",
       "      <td id=\"T_3daa4_row12_col4\" class=\"data row12 col4\" >1.0000</td>\n",
       "      <td id=\"T_3daa4_row12_col5\" class=\"data row12 col5\" >0.2740</td>\n",
       "      <td id=\"T_3daa4_row12_col6\" class=\"data row12 col6\" >0.2469</td>\n",
       "      <td id=\"T_3daa4_row12_col7\" class=\"data row12 col7\" >0.3731</td>\n",
       "      <td id=\"T_3daa4_row12_col8\" class=\"data row12 col8\" >3.1430</td>\n",
       "    </tr>\n",
       "    <tr>\n",
       "      <th id=\"T_3daa4_level0_row13\" class=\"row_heading level0 row13\" >dummy</th>\n",
       "      <td id=\"T_3daa4_row13_col0\" class=\"data row13 col0\" >Dummy Classifier</td>\n",
       "      <td id=\"T_3daa4_row13_col1\" class=\"data row13 col1\" >0.8659</td>\n",
       "      <td id=\"T_3daa4_row13_col2\" class=\"data row13 col2\" >0.5000</td>\n",
       "      <td id=\"T_3daa4_row13_col3\" class=\"data row13 col3\" >0.0000</td>\n",
       "      <td id=\"T_3daa4_row13_col4\" class=\"data row13 col4\" >0.0000</td>\n",
       "      <td id=\"T_3daa4_row13_col5\" class=\"data row13 col5\" >0.0000</td>\n",
       "      <td id=\"T_3daa4_row13_col6\" class=\"data row13 col6\" >0.0000</td>\n",
       "      <td id=\"T_3daa4_row13_col7\" class=\"data row13 col7\" >0.0000</td>\n",
       "      <td id=\"T_3daa4_row13_col8\" class=\"data row13 col8\" >0.8050</td>\n",
       "    </tr>\n",
       "  </tbody>\n",
       "</table>\n"
      ],
      "text/plain": [
       "<pandas.io.formats.style.Styler at 0x1e214adef10>"
      ]
     },
     "metadata": {},
     "output_type": "display_data"
    },
    {
     "data": {
      "application/vnd.jupyter.widget-view+json": {
       "model_id": "",
       "version_major": 2,
       "version_minor": 0
      },
      "text/plain": [
       "Processing:   0%|          | 0/61 [00:00<?, ?it/s]"
      ]
     },
     "metadata": {},
     "output_type": "display_data"
    }
   ],
   "source": [
    "best=compare_models()"
   ]
  },
  {
   "cell_type": "code",
   "execution_count": 44,
   "id": "7ebdaebd",
   "metadata": {},
   "outputs": [
    {
     "data": {
      "text/plain": [
       "LogisticRegression(C=1.0, class_weight=None, dual=False, fit_intercept=True,\n",
       "                   intercept_scaling=1, l1_ratio=None, max_iter=1000,\n",
       "                   multi_class='auto', n_jobs=None, penalty='l2',\n",
       "                   random_state=12, solver='lbfgs', tol=0.0001, verbose=0,\n",
       "                   warm_start=False)"
      ]
     },
     "execution_count": 44,
     "metadata": {},
     "output_type": "execute_result"
    }
   ],
   "source": [
    "best"
   ]
  },
  {
   "cell_type": "code",
   "execution_count": 45,
   "id": "708bcecf",
   "metadata": {},
   "outputs": [
    {
     "data": {
      "text/html": [],
      "text/plain": [
       "<IPython.core.display.HTML object>"
      ]
     },
     "metadata": {},
     "output_type": "display_data"
    },
    {
     "data": {
      "text/html": [
       "<style type=\"text/css\">\n",
       "#T_9014f_row10_col0, #T_9014f_row10_col1, #T_9014f_row10_col2, #T_9014f_row10_col3, #T_9014f_row10_col4, #T_9014f_row10_col5, #T_9014f_row10_col6 {\n",
       "  background: yellow;\n",
       "}\n",
       "</style>\n",
       "<table id=\"T_9014f\">\n",
       "  <thead>\n",
       "    <tr>\n",
       "      <th class=\"blank level0\" >&nbsp;</th>\n",
       "      <th id=\"T_9014f_level0_col0\" class=\"col_heading level0 col0\" >Accuracy</th>\n",
       "      <th id=\"T_9014f_level0_col1\" class=\"col_heading level0 col1\" >AUC</th>\n",
       "      <th id=\"T_9014f_level0_col2\" class=\"col_heading level0 col2\" >Recall</th>\n",
       "      <th id=\"T_9014f_level0_col3\" class=\"col_heading level0 col3\" >Prec.</th>\n",
       "      <th id=\"T_9014f_level0_col4\" class=\"col_heading level0 col4\" >F1</th>\n",
       "      <th id=\"T_9014f_level0_col5\" class=\"col_heading level0 col5\" >Kappa</th>\n",
       "      <th id=\"T_9014f_level0_col6\" class=\"col_heading level0 col6\" >MCC</th>\n",
       "    </tr>\n",
       "    <tr>\n",
       "      <th class=\"index_name level0\" >Fold</th>\n",
       "      <th class=\"blank col0\" >&nbsp;</th>\n",
       "      <th class=\"blank col1\" >&nbsp;</th>\n",
       "      <th class=\"blank col2\" >&nbsp;</th>\n",
       "      <th class=\"blank col3\" >&nbsp;</th>\n",
       "      <th class=\"blank col4\" >&nbsp;</th>\n",
       "      <th class=\"blank col5\" >&nbsp;</th>\n",
       "      <th class=\"blank col6\" >&nbsp;</th>\n",
       "    </tr>\n",
       "  </thead>\n",
       "  <tbody>\n",
       "    <tr>\n",
       "      <th id=\"T_9014f_level0_row0\" class=\"row_heading level0 row0\" >0</th>\n",
       "      <td id=\"T_9014f_row0_col0\" class=\"data row0 col0\" >0.8872</td>\n",
       "      <td id=\"T_9014f_row0_col1\" class=\"data row0 col1\" >0.6020</td>\n",
       "      <td id=\"T_9014f_row0_col2\" class=\"data row0 col2\" >0.1538</td>\n",
       "      <td id=\"T_9014f_row0_col3\" class=\"data row0 col3\" >1.0000</td>\n",
       "      <td id=\"T_9014f_row0_col4\" class=\"data row0 col4\" >0.2667</td>\n",
       "      <td id=\"T_9014f_row0_col5\" class=\"data row0 col5\" >0.2396</td>\n",
       "      <td id=\"T_9014f_row0_col6\" class=\"data row0 col6\" >0.3690</td>\n",
       "    </tr>\n",
       "    <tr>\n",
       "      <th id=\"T_9014f_level0_row1\" class=\"row_heading level0 row1\" >1</th>\n",
       "      <td id=\"T_9014f_row1_col0\" class=\"data row1 col0\" >0.8769</td>\n",
       "      <td id=\"T_9014f_row1_col1\" class=\"data row1 col1\" >0.5794</td>\n",
       "      <td id=\"T_9014f_row1_col2\" class=\"data row1 col2\" >0.0769</td>\n",
       "      <td id=\"T_9014f_row1_col3\" class=\"data row1 col3\" >1.0000</td>\n",
       "      <td id=\"T_9014f_row1_col4\" class=\"data row1 col4\" >0.1429</td>\n",
       "      <td id=\"T_9014f_row1_col5\" class=\"data row1 col5\" >0.1262</td>\n",
       "      <td id=\"T_9014f_row1_col6\" class=\"data row1 col6\" >0.2595</td>\n",
       "    </tr>\n",
       "    <tr>\n",
       "      <th id=\"T_9014f_level0_row2\" class=\"row_heading level0 row2\" >2</th>\n",
       "      <td id=\"T_9014f_row2_col0\" class=\"data row2 col0\" >0.8846</td>\n",
       "      <td id=\"T_9014f_row2_col1\" class=\"data row2 col1\" >0.6019</td>\n",
       "      <td id=\"T_9014f_row2_col2\" class=\"data row2 col2\" >0.1346</td>\n",
       "      <td id=\"T_9014f_row2_col3\" class=\"data row2 col3\" >1.0000</td>\n",
       "      <td id=\"T_9014f_row2_col4\" class=\"data row2 col4\" >0.2373</td>\n",
       "      <td id=\"T_9014f_row2_col5\" class=\"data row2 col5\" >0.2124</td>\n",
       "      <td id=\"T_9014f_row2_col6\" class=\"data row2 col6\" >0.3447</td>\n",
       "    </tr>\n",
       "    <tr>\n",
       "      <th id=\"T_9014f_level0_row3\" class=\"row_heading level0 row3\" >3</th>\n",
       "      <td id=\"T_9014f_row3_col0\" class=\"data row3 col0\" >0.8872</td>\n",
       "      <td id=\"T_9014f_row3_col1\" class=\"data row3 col1\" >0.6232</td>\n",
       "      <td id=\"T_9014f_row3_col2\" class=\"data row3 col2\" >0.1538</td>\n",
       "      <td id=\"T_9014f_row3_col3\" class=\"data row3 col3\" >1.0000</td>\n",
       "      <td id=\"T_9014f_row3_col4\" class=\"data row3 col4\" >0.2667</td>\n",
       "      <td id=\"T_9014f_row3_col5\" class=\"data row3 col5\" >0.2396</td>\n",
       "      <td id=\"T_9014f_row3_col6\" class=\"data row3 col6\" >0.3690</td>\n",
       "    </tr>\n",
       "    <tr>\n",
       "      <th id=\"T_9014f_level0_row4\" class=\"row_heading level0 row4\" >4</th>\n",
       "      <td id=\"T_9014f_row4_col0\" class=\"data row4 col0\" >0.9000</td>\n",
       "      <td id=\"T_9014f_row4_col1\" class=\"data row4 col1\" >0.6605</td>\n",
       "      <td id=\"T_9014f_row4_col2\" class=\"data row4 col2\" >0.2500</td>\n",
       "      <td id=\"T_9014f_row4_col3\" class=\"data row4 col3\" >1.0000</td>\n",
       "      <td id=\"T_9014f_row4_col4\" class=\"data row4 col4\" >0.4000</td>\n",
       "      <td id=\"T_9014f_row4_col5\" class=\"data row4 col5\" >0.3662</td>\n",
       "      <td id=\"T_9014f_row4_col6\" class=\"data row4 col6\" >0.4734</td>\n",
       "    </tr>\n",
       "    <tr>\n",
       "      <th id=\"T_9014f_level0_row5\" class=\"row_heading level0 row5\" >5</th>\n",
       "      <td id=\"T_9014f_row5_col0\" class=\"data row5 col0\" >0.8897</td>\n",
       "      <td id=\"T_9014f_row5_col1\" class=\"data row5 col1\" >0.6183</td>\n",
       "      <td id=\"T_9014f_row5_col2\" class=\"data row5 col2\" >0.1731</td>\n",
       "      <td id=\"T_9014f_row5_col3\" class=\"data row5 col3\" >1.0000</td>\n",
       "      <td id=\"T_9014f_row5_col4\" class=\"data row5 col4\" >0.2951</td>\n",
       "      <td id=\"T_9014f_row5_col5\" class=\"data row5 col5\" >0.2662</td>\n",
       "      <td id=\"T_9014f_row5_col6\" class=\"data row5 col6\" >0.3918</td>\n",
       "    </tr>\n",
       "    <tr>\n",
       "      <th id=\"T_9014f_level0_row6\" class=\"row_heading level0 row6\" >6</th>\n",
       "      <td id=\"T_9014f_row6_col0\" class=\"data row6 col0\" >0.8821</td>\n",
       "      <td id=\"T_9014f_row6_col1\" class=\"data row6 col1\" >0.5930</td>\n",
       "      <td id=\"T_9014f_row6_col2\" class=\"data row6 col2\" >0.1154</td>\n",
       "      <td id=\"T_9014f_row6_col3\" class=\"data row6 col3\" >1.0000</td>\n",
       "      <td id=\"T_9014f_row6_col4\" class=\"data row6 col4\" >0.2069</td>\n",
       "      <td id=\"T_9014f_row6_col5\" class=\"data row6 col5\" >0.1844</td>\n",
       "      <td id=\"T_9014f_row6_col6\" class=\"data row6 col6\" >0.3187</td>\n",
       "    </tr>\n",
       "    <tr>\n",
       "      <th id=\"T_9014f_level0_row7\" class=\"row_heading level0 row7\" >7</th>\n",
       "      <td id=\"T_9014f_row7_col0\" class=\"data row7 col0\" >0.8872</td>\n",
       "      <td id=\"T_9014f_row7_col1\" class=\"data row7 col1\" >0.6145</td>\n",
       "      <td id=\"T_9014f_row7_col2\" class=\"data row7 col2\" >0.1698</td>\n",
       "      <td id=\"T_9014f_row7_col3\" class=\"data row7 col3\" >1.0000</td>\n",
       "      <td id=\"T_9014f_row7_col4\" class=\"data row7 col4\" >0.2903</td>\n",
       "      <td id=\"T_9014f_row7_col5\" class=\"data row7 col5\" >0.2612</td>\n",
       "      <td id=\"T_9014f_row7_col6\" class=\"data row7 col6\" >0.3876</td>\n",
       "    </tr>\n",
       "    <tr>\n",
       "      <th id=\"T_9014f_level0_row8\" class=\"row_heading level0 row8\" >8</th>\n",
       "      <td id=\"T_9014f_row8_col0\" class=\"data row8 col0\" >0.8923</td>\n",
       "      <td id=\"T_9014f_row8_col1\" class=\"data row8 col1\" >0.6355</td>\n",
       "      <td id=\"T_9014f_row8_col2\" class=\"data row8 col2\" >0.2075</td>\n",
       "      <td id=\"T_9014f_row8_col3\" class=\"data row8 col3\" >1.0000</td>\n",
       "      <td id=\"T_9014f_row8_col4\" class=\"data row8 col4\" >0.3438</td>\n",
       "      <td id=\"T_9014f_row8_col5\" class=\"data row8 col5\" >0.3116</td>\n",
       "      <td id=\"T_9014f_row8_col6\" class=\"data row8 col6\" >0.4296</td>\n",
       "    </tr>\n",
       "    <tr>\n",
       "      <th id=\"T_9014f_level0_row9\" class=\"row_heading level0 row9\" >9</th>\n",
       "      <td id=\"T_9014f_row9_col0\" class=\"data row9 col0\" >0.8872</td>\n",
       "      <td id=\"T_9014f_row9_col1\" class=\"data row9 col1\" >0.6182</td>\n",
       "      <td id=\"T_9014f_row9_col2\" class=\"data row9 col2\" >0.1698</td>\n",
       "      <td id=\"T_9014f_row9_col3\" class=\"data row9 col3\" >1.0000</td>\n",
       "      <td id=\"T_9014f_row9_col4\" class=\"data row9 col4\" >0.2903</td>\n",
       "      <td id=\"T_9014f_row9_col5\" class=\"data row9 col5\" >0.2612</td>\n",
       "      <td id=\"T_9014f_row9_col6\" class=\"data row9 col6\" >0.3876</td>\n",
       "    </tr>\n",
       "    <tr>\n",
       "      <th id=\"T_9014f_level0_row10\" class=\"row_heading level0 row10\" >Mean</th>\n",
       "      <td id=\"T_9014f_row10_col0\" class=\"data row10 col0\" >0.8874</td>\n",
       "      <td id=\"T_9014f_row10_col1\" class=\"data row10 col1\" >0.6147</td>\n",
       "      <td id=\"T_9014f_row10_col2\" class=\"data row10 col2\" >0.1605</td>\n",
       "      <td id=\"T_9014f_row10_col3\" class=\"data row10 col3\" >1.0000</td>\n",
       "      <td id=\"T_9014f_row10_col4\" class=\"data row10 col4\" >0.2740</td>\n",
       "      <td id=\"T_9014f_row10_col5\" class=\"data row10 col5\" >0.2469</td>\n",
       "      <td id=\"T_9014f_row10_col6\" class=\"data row10 col6\" >0.3731</td>\n",
       "    </tr>\n",
       "    <tr>\n",
       "      <th id=\"T_9014f_level0_row11\" class=\"row_heading level0 row11\" >Std</th>\n",
       "      <td id=\"T_9014f_row11_col0\" class=\"data row11 col0\" >0.0058</td>\n",
       "      <td id=\"T_9014f_row11_col1\" class=\"data row11 col1\" >0.0216</td>\n",
       "      <td id=\"T_9014f_row11_col2\" class=\"data row11 col2\" >0.0451</td>\n",
       "      <td id=\"T_9014f_row11_col3\" class=\"data row11 col3\" >0.0000</td>\n",
       "      <td id=\"T_9014f_row11_col4\" class=\"data row11 col4\" >0.0670</td>\n",
       "      <td id=\"T_9014f_row11_col5\" class=\"data row11 col5\" >0.0624</td>\n",
       "      <td id=\"T_9014f_row11_col6\" class=\"data row11 col6\" >0.0554</td>\n",
       "    </tr>\n",
       "  </tbody>\n",
       "</table>\n"
      ],
      "text/plain": [
       "<pandas.io.formats.style.Styler at 0x1e214514850>"
      ]
     },
     "metadata": {},
     "output_type": "display_data"
    },
    {
     "data": {
      "application/vnd.jupyter.widget-view+json": {
       "model_id": "",
       "version_major": 2,
       "version_minor": 0
      },
      "text/plain": [
       "Processing:   0%|          | 0/4 [00:00<?, ?it/s]"
      ]
     },
     "metadata": {},
     "output_type": "display_data"
    }
   ],
   "source": [
    "LogisticRegression=create_model('lr')"
   ]
  },
  {
   "cell_type": "code",
   "execution_count": 46,
   "id": "62731c91",
   "metadata": {},
   "outputs": [
    {
     "data": {
      "text/html": [],
      "text/plain": [
       "<IPython.core.display.HTML object>"
      ]
     },
     "metadata": {},
     "output_type": "display_data"
    },
    {
     "data": {
      "text/html": [
       "<style type=\"text/css\">\n",
       "#T_559c5_row10_col0, #T_559c5_row10_col1, #T_559c5_row10_col2, #T_559c5_row10_col3, #T_559c5_row10_col4, #T_559c5_row10_col5, #T_559c5_row10_col6 {\n",
       "  background: yellow;\n",
       "}\n",
       "</style>\n",
       "<table id=\"T_559c5\">\n",
       "  <thead>\n",
       "    <tr>\n",
       "      <th class=\"blank level0\" >&nbsp;</th>\n",
       "      <th id=\"T_559c5_level0_col0\" class=\"col_heading level0 col0\" >Accuracy</th>\n",
       "      <th id=\"T_559c5_level0_col1\" class=\"col_heading level0 col1\" >AUC</th>\n",
       "      <th id=\"T_559c5_level0_col2\" class=\"col_heading level0 col2\" >Recall</th>\n",
       "      <th id=\"T_559c5_level0_col3\" class=\"col_heading level0 col3\" >Prec.</th>\n",
       "      <th id=\"T_559c5_level0_col4\" class=\"col_heading level0 col4\" >F1</th>\n",
       "      <th id=\"T_559c5_level0_col5\" class=\"col_heading level0 col5\" >Kappa</th>\n",
       "      <th id=\"T_559c5_level0_col6\" class=\"col_heading level0 col6\" >MCC</th>\n",
       "    </tr>\n",
       "    <tr>\n",
       "      <th class=\"index_name level0\" >Fold</th>\n",
       "      <th class=\"blank col0\" >&nbsp;</th>\n",
       "      <th class=\"blank col1\" >&nbsp;</th>\n",
       "      <th class=\"blank col2\" >&nbsp;</th>\n",
       "      <th class=\"blank col3\" >&nbsp;</th>\n",
       "      <th class=\"blank col4\" >&nbsp;</th>\n",
       "      <th class=\"blank col5\" >&nbsp;</th>\n",
       "      <th class=\"blank col6\" >&nbsp;</th>\n",
       "    </tr>\n",
       "  </thead>\n",
       "  <tbody>\n",
       "    <tr>\n",
       "      <th id=\"T_559c5_level0_row0\" class=\"row_heading level0 row0\" >0</th>\n",
       "      <td id=\"T_559c5_row0_col0\" class=\"data row0 col0\" >0.8872</td>\n",
       "      <td id=\"T_559c5_row0_col1\" class=\"data row0 col1\" >0.6020</td>\n",
       "      <td id=\"T_559c5_row0_col2\" class=\"data row0 col2\" >0.1538</td>\n",
       "      <td id=\"T_559c5_row0_col3\" class=\"data row0 col3\" >1.0000</td>\n",
       "      <td id=\"T_559c5_row0_col4\" class=\"data row0 col4\" >0.2667</td>\n",
       "      <td id=\"T_559c5_row0_col5\" class=\"data row0 col5\" >0.2396</td>\n",
       "      <td id=\"T_559c5_row0_col6\" class=\"data row0 col6\" >0.3690</td>\n",
       "    </tr>\n",
       "    <tr>\n",
       "      <th id=\"T_559c5_level0_row1\" class=\"row_heading level0 row1\" >1</th>\n",
       "      <td id=\"T_559c5_row1_col0\" class=\"data row1 col0\" >0.8769</td>\n",
       "      <td id=\"T_559c5_row1_col1\" class=\"data row1 col1\" >0.5794</td>\n",
       "      <td id=\"T_559c5_row1_col2\" class=\"data row1 col2\" >0.0769</td>\n",
       "      <td id=\"T_559c5_row1_col3\" class=\"data row1 col3\" >1.0000</td>\n",
       "      <td id=\"T_559c5_row1_col4\" class=\"data row1 col4\" >0.1429</td>\n",
       "      <td id=\"T_559c5_row1_col5\" class=\"data row1 col5\" >0.1262</td>\n",
       "      <td id=\"T_559c5_row1_col6\" class=\"data row1 col6\" >0.2595</td>\n",
       "    </tr>\n",
       "    <tr>\n",
       "      <th id=\"T_559c5_level0_row2\" class=\"row_heading level0 row2\" >2</th>\n",
       "      <td id=\"T_559c5_row2_col0\" class=\"data row2 col0\" >0.8846</td>\n",
       "      <td id=\"T_559c5_row2_col1\" class=\"data row2 col1\" >0.6019</td>\n",
       "      <td id=\"T_559c5_row2_col2\" class=\"data row2 col2\" >0.1346</td>\n",
       "      <td id=\"T_559c5_row2_col3\" class=\"data row2 col3\" >1.0000</td>\n",
       "      <td id=\"T_559c5_row2_col4\" class=\"data row2 col4\" >0.2373</td>\n",
       "      <td id=\"T_559c5_row2_col5\" class=\"data row2 col5\" >0.2124</td>\n",
       "      <td id=\"T_559c5_row2_col6\" class=\"data row2 col6\" >0.3447</td>\n",
       "    </tr>\n",
       "    <tr>\n",
       "      <th id=\"T_559c5_level0_row3\" class=\"row_heading level0 row3\" >3</th>\n",
       "      <td id=\"T_559c5_row3_col0\" class=\"data row3 col0\" >0.8872</td>\n",
       "      <td id=\"T_559c5_row3_col1\" class=\"data row3 col1\" >0.6232</td>\n",
       "      <td id=\"T_559c5_row3_col2\" class=\"data row3 col2\" >0.1538</td>\n",
       "      <td id=\"T_559c5_row3_col3\" class=\"data row3 col3\" >1.0000</td>\n",
       "      <td id=\"T_559c5_row3_col4\" class=\"data row3 col4\" >0.2667</td>\n",
       "      <td id=\"T_559c5_row3_col5\" class=\"data row3 col5\" >0.2396</td>\n",
       "      <td id=\"T_559c5_row3_col6\" class=\"data row3 col6\" >0.3690</td>\n",
       "    </tr>\n",
       "    <tr>\n",
       "      <th id=\"T_559c5_level0_row4\" class=\"row_heading level0 row4\" >4</th>\n",
       "      <td id=\"T_559c5_row4_col0\" class=\"data row4 col0\" >0.9000</td>\n",
       "      <td id=\"T_559c5_row4_col1\" class=\"data row4 col1\" >0.6605</td>\n",
       "      <td id=\"T_559c5_row4_col2\" class=\"data row4 col2\" >0.2500</td>\n",
       "      <td id=\"T_559c5_row4_col3\" class=\"data row4 col3\" >1.0000</td>\n",
       "      <td id=\"T_559c5_row4_col4\" class=\"data row4 col4\" >0.4000</td>\n",
       "      <td id=\"T_559c5_row4_col5\" class=\"data row4 col5\" >0.3662</td>\n",
       "      <td id=\"T_559c5_row4_col6\" class=\"data row4 col6\" >0.4734</td>\n",
       "    </tr>\n",
       "    <tr>\n",
       "      <th id=\"T_559c5_level0_row5\" class=\"row_heading level0 row5\" >5</th>\n",
       "      <td id=\"T_559c5_row5_col0\" class=\"data row5 col0\" >0.8897</td>\n",
       "      <td id=\"T_559c5_row5_col1\" class=\"data row5 col1\" >0.6183</td>\n",
       "      <td id=\"T_559c5_row5_col2\" class=\"data row5 col2\" >0.1731</td>\n",
       "      <td id=\"T_559c5_row5_col3\" class=\"data row5 col3\" >1.0000</td>\n",
       "      <td id=\"T_559c5_row5_col4\" class=\"data row5 col4\" >0.2951</td>\n",
       "      <td id=\"T_559c5_row5_col5\" class=\"data row5 col5\" >0.2662</td>\n",
       "      <td id=\"T_559c5_row5_col6\" class=\"data row5 col6\" >0.3918</td>\n",
       "    </tr>\n",
       "    <tr>\n",
       "      <th id=\"T_559c5_level0_row6\" class=\"row_heading level0 row6\" >6</th>\n",
       "      <td id=\"T_559c5_row6_col0\" class=\"data row6 col0\" >0.8821</td>\n",
       "      <td id=\"T_559c5_row6_col1\" class=\"data row6 col1\" >0.5930</td>\n",
       "      <td id=\"T_559c5_row6_col2\" class=\"data row6 col2\" >0.1154</td>\n",
       "      <td id=\"T_559c5_row6_col3\" class=\"data row6 col3\" >1.0000</td>\n",
       "      <td id=\"T_559c5_row6_col4\" class=\"data row6 col4\" >0.2069</td>\n",
       "      <td id=\"T_559c5_row6_col5\" class=\"data row6 col5\" >0.1844</td>\n",
       "      <td id=\"T_559c5_row6_col6\" class=\"data row6 col6\" >0.3187</td>\n",
       "    </tr>\n",
       "    <tr>\n",
       "      <th id=\"T_559c5_level0_row7\" class=\"row_heading level0 row7\" >7</th>\n",
       "      <td id=\"T_559c5_row7_col0\" class=\"data row7 col0\" >0.8872</td>\n",
       "      <td id=\"T_559c5_row7_col1\" class=\"data row7 col1\" >0.6145</td>\n",
       "      <td id=\"T_559c5_row7_col2\" class=\"data row7 col2\" >0.1698</td>\n",
       "      <td id=\"T_559c5_row7_col3\" class=\"data row7 col3\" >1.0000</td>\n",
       "      <td id=\"T_559c5_row7_col4\" class=\"data row7 col4\" >0.2903</td>\n",
       "      <td id=\"T_559c5_row7_col5\" class=\"data row7 col5\" >0.2612</td>\n",
       "      <td id=\"T_559c5_row7_col6\" class=\"data row7 col6\" >0.3876</td>\n",
       "    </tr>\n",
       "    <tr>\n",
       "      <th id=\"T_559c5_level0_row8\" class=\"row_heading level0 row8\" >8</th>\n",
       "      <td id=\"T_559c5_row8_col0\" class=\"data row8 col0\" >0.8923</td>\n",
       "      <td id=\"T_559c5_row8_col1\" class=\"data row8 col1\" >0.6355</td>\n",
       "      <td id=\"T_559c5_row8_col2\" class=\"data row8 col2\" >0.2075</td>\n",
       "      <td id=\"T_559c5_row8_col3\" class=\"data row8 col3\" >1.0000</td>\n",
       "      <td id=\"T_559c5_row8_col4\" class=\"data row8 col4\" >0.3438</td>\n",
       "      <td id=\"T_559c5_row8_col5\" class=\"data row8 col5\" >0.3116</td>\n",
       "      <td id=\"T_559c5_row8_col6\" class=\"data row8 col6\" >0.4296</td>\n",
       "    </tr>\n",
       "    <tr>\n",
       "      <th id=\"T_559c5_level0_row9\" class=\"row_heading level0 row9\" >9</th>\n",
       "      <td id=\"T_559c5_row9_col0\" class=\"data row9 col0\" >0.8872</td>\n",
       "      <td id=\"T_559c5_row9_col1\" class=\"data row9 col1\" >0.6182</td>\n",
       "      <td id=\"T_559c5_row9_col2\" class=\"data row9 col2\" >0.1698</td>\n",
       "      <td id=\"T_559c5_row9_col3\" class=\"data row9 col3\" >1.0000</td>\n",
       "      <td id=\"T_559c5_row9_col4\" class=\"data row9 col4\" >0.2903</td>\n",
       "      <td id=\"T_559c5_row9_col5\" class=\"data row9 col5\" >0.2612</td>\n",
       "      <td id=\"T_559c5_row9_col6\" class=\"data row9 col6\" >0.3876</td>\n",
       "    </tr>\n",
       "    <tr>\n",
       "      <th id=\"T_559c5_level0_row10\" class=\"row_heading level0 row10\" >Mean</th>\n",
       "      <td id=\"T_559c5_row10_col0\" class=\"data row10 col0\" >0.8874</td>\n",
       "      <td id=\"T_559c5_row10_col1\" class=\"data row10 col1\" >0.6147</td>\n",
       "      <td id=\"T_559c5_row10_col2\" class=\"data row10 col2\" >0.1605</td>\n",
       "      <td id=\"T_559c5_row10_col3\" class=\"data row10 col3\" >1.0000</td>\n",
       "      <td id=\"T_559c5_row10_col4\" class=\"data row10 col4\" >0.2740</td>\n",
       "      <td id=\"T_559c5_row10_col5\" class=\"data row10 col5\" >0.2469</td>\n",
       "      <td id=\"T_559c5_row10_col6\" class=\"data row10 col6\" >0.3731</td>\n",
       "    </tr>\n",
       "    <tr>\n",
       "      <th id=\"T_559c5_level0_row11\" class=\"row_heading level0 row11\" >Std</th>\n",
       "      <td id=\"T_559c5_row11_col0\" class=\"data row11 col0\" >0.0058</td>\n",
       "      <td id=\"T_559c5_row11_col1\" class=\"data row11 col1\" >0.0216</td>\n",
       "      <td id=\"T_559c5_row11_col2\" class=\"data row11 col2\" >0.0451</td>\n",
       "      <td id=\"T_559c5_row11_col3\" class=\"data row11 col3\" >0.0000</td>\n",
       "      <td id=\"T_559c5_row11_col4\" class=\"data row11 col4\" >0.0670</td>\n",
       "      <td id=\"T_559c5_row11_col5\" class=\"data row11 col5\" >0.0624</td>\n",
       "      <td id=\"T_559c5_row11_col6\" class=\"data row11 col6\" >0.0554</td>\n",
       "    </tr>\n",
       "  </tbody>\n",
       "</table>\n"
      ],
      "text/plain": [
       "<pandas.io.formats.style.Styler at 0x1e214cfbc10>"
      ]
     },
     "metadata": {},
     "output_type": "display_data"
    },
    {
     "data": {
      "application/vnd.jupyter.widget-view+json": {
       "model_id": "",
       "version_major": 2,
       "version_minor": 0
      },
      "text/plain": [
       "Processing:   0%|          | 0/7 [00:00<?, ?it/s]"
      ]
     },
     "metadata": {},
     "output_type": "display_data"
    },
    {
     "name": "stdout",
     "output_type": "stream",
     "text": [
      "Fitting 10 folds for each of 10 candidates, totalling 100 fits\n",
      "Original model was better than the tuned model, hence it will be returned. NOTE: The display metrics are for the tuned model (not the original one).\n"
     ]
    }
   ],
   "source": [
    "tune=tune_model(LogisticRegression)"
   ]
  },
  {
   "cell_type": "code",
   "execution_count": 48,
   "id": "10dc67a7",
   "metadata": {},
   "outputs": [
    {
     "data": {
      "text/html": [],
      "text/plain": [
       "<IPython.core.display.HTML object>"
      ]
     },
     "metadata": {},
     "output_type": "display_data"
    },
    {
     "data": {
      "text/html": [
       "<style type=\"text/css\">\n",
       "#T_ea729_row10_col0, #T_ea729_row10_col1, #T_ea729_row10_col2, #T_ea729_row10_col3, #T_ea729_row10_col4, #T_ea729_row10_col5, #T_ea729_row10_col6 {\n",
       "  background: yellow;\n",
       "}\n",
       "</style>\n",
       "<table id=\"T_ea729\">\n",
       "  <thead>\n",
       "    <tr>\n",
       "      <th class=\"blank level0\" >&nbsp;</th>\n",
       "      <th id=\"T_ea729_level0_col0\" class=\"col_heading level0 col0\" >Accuracy</th>\n",
       "      <th id=\"T_ea729_level0_col1\" class=\"col_heading level0 col1\" >AUC</th>\n",
       "      <th id=\"T_ea729_level0_col2\" class=\"col_heading level0 col2\" >Recall</th>\n",
       "      <th id=\"T_ea729_level0_col3\" class=\"col_heading level0 col3\" >Prec.</th>\n",
       "      <th id=\"T_ea729_level0_col4\" class=\"col_heading level0 col4\" >F1</th>\n",
       "      <th id=\"T_ea729_level0_col5\" class=\"col_heading level0 col5\" >Kappa</th>\n",
       "      <th id=\"T_ea729_level0_col6\" class=\"col_heading level0 col6\" >MCC</th>\n",
       "    </tr>\n",
       "    <tr>\n",
       "      <th class=\"index_name level0\" >Fold</th>\n",
       "      <th class=\"blank col0\" >&nbsp;</th>\n",
       "      <th class=\"blank col1\" >&nbsp;</th>\n",
       "      <th class=\"blank col2\" >&nbsp;</th>\n",
       "      <th class=\"blank col3\" >&nbsp;</th>\n",
       "      <th class=\"blank col4\" >&nbsp;</th>\n",
       "      <th class=\"blank col5\" >&nbsp;</th>\n",
       "      <th class=\"blank col6\" >&nbsp;</th>\n",
       "    </tr>\n",
       "  </thead>\n",
       "  <tbody>\n",
       "    <tr>\n",
       "      <th id=\"T_ea729_level0_row0\" class=\"row_heading level0 row0\" >0</th>\n",
       "      <td id=\"T_ea729_row0_col0\" class=\"data row0 col0\" >0.8872</td>\n",
       "      <td id=\"T_ea729_row0_col1\" class=\"data row0 col1\" >0.6020</td>\n",
       "      <td id=\"T_ea729_row0_col2\" class=\"data row0 col2\" >0.1538</td>\n",
       "      <td id=\"T_ea729_row0_col3\" class=\"data row0 col3\" >1.0000</td>\n",
       "      <td id=\"T_ea729_row0_col4\" class=\"data row0 col4\" >0.2667</td>\n",
       "      <td id=\"T_ea729_row0_col5\" class=\"data row0 col5\" >0.2396</td>\n",
       "      <td id=\"T_ea729_row0_col6\" class=\"data row0 col6\" >0.3690</td>\n",
       "    </tr>\n",
       "    <tr>\n",
       "      <th id=\"T_ea729_level0_row1\" class=\"row_heading level0 row1\" >1</th>\n",
       "      <td id=\"T_ea729_row1_col0\" class=\"data row1 col0\" >0.8769</td>\n",
       "      <td id=\"T_ea729_row1_col1\" class=\"data row1 col1\" >0.5794</td>\n",
       "      <td id=\"T_ea729_row1_col2\" class=\"data row1 col2\" >0.0769</td>\n",
       "      <td id=\"T_ea729_row1_col3\" class=\"data row1 col3\" >1.0000</td>\n",
       "      <td id=\"T_ea729_row1_col4\" class=\"data row1 col4\" >0.1429</td>\n",
       "      <td id=\"T_ea729_row1_col5\" class=\"data row1 col5\" >0.1262</td>\n",
       "      <td id=\"T_ea729_row1_col6\" class=\"data row1 col6\" >0.2595</td>\n",
       "    </tr>\n",
       "    <tr>\n",
       "      <th id=\"T_ea729_level0_row2\" class=\"row_heading level0 row2\" >2</th>\n",
       "      <td id=\"T_ea729_row2_col0\" class=\"data row2 col0\" >0.8846</td>\n",
       "      <td id=\"T_ea729_row2_col1\" class=\"data row2 col1\" >0.6019</td>\n",
       "      <td id=\"T_ea729_row2_col2\" class=\"data row2 col2\" >0.1346</td>\n",
       "      <td id=\"T_ea729_row2_col3\" class=\"data row2 col3\" >1.0000</td>\n",
       "      <td id=\"T_ea729_row2_col4\" class=\"data row2 col4\" >0.2373</td>\n",
       "      <td id=\"T_ea729_row2_col5\" class=\"data row2 col5\" >0.2124</td>\n",
       "      <td id=\"T_ea729_row2_col6\" class=\"data row2 col6\" >0.3447</td>\n",
       "    </tr>\n",
       "    <tr>\n",
       "      <th id=\"T_ea729_level0_row3\" class=\"row_heading level0 row3\" >3</th>\n",
       "      <td id=\"T_ea729_row3_col0\" class=\"data row3 col0\" >0.8872</td>\n",
       "      <td id=\"T_ea729_row3_col1\" class=\"data row3 col1\" >0.6232</td>\n",
       "      <td id=\"T_ea729_row3_col2\" class=\"data row3 col2\" >0.1538</td>\n",
       "      <td id=\"T_ea729_row3_col3\" class=\"data row3 col3\" >1.0000</td>\n",
       "      <td id=\"T_ea729_row3_col4\" class=\"data row3 col4\" >0.2667</td>\n",
       "      <td id=\"T_ea729_row3_col5\" class=\"data row3 col5\" >0.2396</td>\n",
       "      <td id=\"T_ea729_row3_col6\" class=\"data row3 col6\" >0.3690</td>\n",
       "    </tr>\n",
       "    <tr>\n",
       "      <th id=\"T_ea729_level0_row4\" class=\"row_heading level0 row4\" >4</th>\n",
       "      <td id=\"T_ea729_row4_col0\" class=\"data row4 col0\" >0.9000</td>\n",
       "      <td id=\"T_ea729_row4_col1\" class=\"data row4 col1\" >0.6605</td>\n",
       "      <td id=\"T_ea729_row4_col2\" class=\"data row4 col2\" >0.2500</td>\n",
       "      <td id=\"T_ea729_row4_col3\" class=\"data row4 col3\" >1.0000</td>\n",
       "      <td id=\"T_ea729_row4_col4\" class=\"data row4 col4\" >0.4000</td>\n",
       "      <td id=\"T_ea729_row4_col5\" class=\"data row4 col5\" >0.3662</td>\n",
       "      <td id=\"T_ea729_row4_col6\" class=\"data row4 col6\" >0.4734</td>\n",
       "    </tr>\n",
       "    <tr>\n",
       "      <th id=\"T_ea729_level0_row5\" class=\"row_heading level0 row5\" >5</th>\n",
       "      <td id=\"T_ea729_row5_col0\" class=\"data row5 col0\" >0.8897</td>\n",
       "      <td id=\"T_ea729_row5_col1\" class=\"data row5 col1\" >0.6183</td>\n",
       "      <td id=\"T_ea729_row5_col2\" class=\"data row5 col2\" >0.1731</td>\n",
       "      <td id=\"T_ea729_row5_col3\" class=\"data row5 col3\" >1.0000</td>\n",
       "      <td id=\"T_ea729_row5_col4\" class=\"data row5 col4\" >0.2951</td>\n",
       "      <td id=\"T_ea729_row5_col5\" class=\"data row5 col5\" >0.2662</td>\n",
       "      <td id=\"T_ea729_row5_col6\" class=\"data row5 col6\" >0.3918</td>\n",
       "    </tr>\n",
       "    <tr>\n",
       "      <th id=\"T_ea729_level0_row6\" class=\"row_heading level0 row6\" >6</th>\n",
       "      <td id=\"T_ea729_row6_col0\" class=\"data row6 col0\" >0.8821</td>\n",
       "      <td id=\"T_ea729_row6_col1\" class=\"data row6 col1\" >0.5930</td>\n",
       "      <td id=\"T_ea729_row6_col2\" class=\"data row6 col2\" >0.1154</td>\n",
       "      <td id=\"T_ea729_row6_col3\" class=\"data row6 col3\" >1.0000</td>\n",
       "      <td id=\"T_ea729_row6_col4\" class=\"data row6 col4\" >0.2069</td>\n",
       "      <td id=\"T_ea729_row6_col5\" class=\"data row6 col5\" >0.1844</td>\n",
       "      <td id=\"T_ea729_row6_col6\" class=\"data row6 col6\" >0.3187</td>\n",
       "    </tr>\n",
       "    <tr>\n",
       "      <th id=\"T_ea729_level0_row7\" class=\"row_heading level0 row7\" >7</th>\n",
       "      <td id=\"T_ea729_row7_col0\" class=\"data row7 col0\" >0.8872</td>\n",
       "      <td id=\"T_ea729_row7_col1\" class=\"data row7 col1\" >0.6145</td>\n",
       "      <td id=\"T_ea729_row7_col2\" class=\"data row7 col2\" >0.1698</td>\n",
       "      <td id=\"T_ea729_row7_col3\" class=\"data row7 col3\" >1.0000</td>\n",
       "      <td id=\"T_ea729_row7_col4\" class=\"data row7 col4\" >0.2903</td>\n",
       "      <td id=\"T_ea729_row7_col5\" class=\"data row7 col5\" >0.2612</td>\n",
       "      <td id=\"T_ea729_row7_col6\" class=\"data row7 col6\" >0.3876</td>\n",
       "    </tr>\n",
       "    <tr>\n",
       "      <th id=\"T_ea729_level0_row8\" class=\"row_heading level0 row8\" >8</th>\n",
       "      <td id=\"T_ea729_row8_col0\" class=\"data row8 col0\" >0.8923</td>\n",
       "      <td id=\"T_ea729_row8_col1\" class=\"data row8 col1\" >0.6355</td>\n",
       "      <td id=\"T_ea729_row8_col2\" class=\"data row8 col2\" >0.2075</td>\n",
       "      <td id=\"T_ea729_row8_col3\" class=\"data row8 col3\" >1.0000</td>\n",
       "      <td id=\"T_ea729_row8_col4\" class=\"data row8 col4\" >0.3438</td>\n",
       "      <td id=\"T_ea729_row8_col5\" class=\"data row8 col5\" >0.3116</td>\n",
       "      <td id=\"T_ea729_row8_col6\" class=\"data row8 col6\" >0.4296</td>\n",
       "    </tr>\n",
       "    <tr>\n",
       "      <th id=\"T_ea729_level0_row9\" class=\"row_heading level0 row9\" >9</th>\n",
       "      <td id=\"T_ea729_row9_col0\" class=\"data row9 col0\" >0.8872</td>\n",
       "      <td id=\"T_ea729_row9_col1\" class=\"data row9 col1\" >0.6182</td>\n",
       "      <td id=\"T_ea729_row9_col2\" class=\"data row9 col2\" >0.1698</td>\n",
       "      <td id=\"T_ea729_row9_col3\" class=\"data row9 col3\" >1.0000</td>\n",
       "      <td id=\"T_ea729_row9_col4\" class=\"data row9 col4\" >0.2903</td>\n",
       "      <td id=\"T_ea729_row9_col5\" class=\"data row9 col5\" >0.2612</td>\n",
       "      <td id=\"T_ea729_row9_col6\" class=\"data row9 col6\" >0.3876</td>\n",
       "    </tr>\n",
       "    <tr>\n",
       "      <th id=\"T_ea729_level0_row10\" class=\"row_heading level0 row10\" >Mean</th>\n",
       "      <td id=\"T_ea729_row10_col0\" class=\"data row10 col0\" >0.8874</td>\n",
       "      <td id=\"T_ea729_row10_col1\" class=\"data row10 col1\" >0.6147</td>\n",
       "      <td id=\"T_ea729_row10_col2\" class=\"data row10 col2\" >0.1605</td>\n",
       "      <td id=\"T_ea729_row10_col3\" class=\"data row10 col3\" >1.0000</td>\n",
       "      <td id=\"T_ea729_row10_col4\" class=\"data row10 col4\" >0.2740</td>\n",
       "      <td id=\"T_ea729_row10_col5\" class=\"data row10 col5\" >0.2469</td>\n",
       "      <td id=\"T_ea729_row10_col6\" class=\"data row10 col6\" >0.3731</td>\n",
       "    </tr>\n",
       "    <tr>\n",
       "      <th id=\"T_ea729_level0_row11\" class=\"row_heading level0 row11\" >Std</th>\n",
       "      <td id=\"T_ea729_row11_col0\" class=\"data row11 col0\" >0.0058</td>\n",
       "      <td id=\"T_ea729_row11_col1\" class=\"data row11 col1\" >0.0216</td>\n",
       "      <td id=\"T_ea729_row11_col2\" class=\"data row11 col2\" >0.0451</td>\n",
       "      <td id=\"T_ea729_row11_col3\" class=\"data row11 col3\" >0.0000</td>\n",
       "      <td id=\"T_ea729_row11_col4\" class=\"data row11 col4\" >0.0670</td>\n",
       "      <td id=\"T_ea729_row11_col5\" class=\"data row11 col5\" >0.0624</td>\n",
       "      <td id=\"T_ea729_row11_col6\" class=\"data row11 col6\" >0.0554</td>\n",
       "    </tr>\n",
       "  </tbody>\n",
       "</table>\n"
      ],
      "text/plain": [
       "<pandas.io.formats.style.Styler at 0x1e2146482e0>"
      ]
     },
     "metadata": {},
     "output_type": "display_data"
    },
    {
     "data": {
      "application/vnd.jupyter.widget-view+json": {
       "model_id": "",
       "version_major": 2,
       "version_minor": 0
      },
      "text/plain": [
       "Processing:   0%|          | 0/6 [00:00<?, ?it/s]"
      ]
     },
     "metadata": {},
     "output_type": "display_data"
    }
   ],
   "source": [
    "GBC_bagged=ensemble_model(LogisticRegression,method='Bagging')"
   ]
  },
  {
   "cell_type": "code",
   "execution_count": 49,
   "id": "fb8af4ef",
   "metadata": {},
   "outputs": [
    {
     "data": {
      "text/html": [],
      "text/plain": [
       "<IPython.core.display.HTML object>"
      ]
     },
     "metadata": {},
     "output_type": "display_data"
    },
    {
     "data": {
      "text/html": [
       "<style type=\"text/css\">\n",
       "#T_f63df_row10_col0, #T_f63df_row10_col1, #T_f63df_row10_col2, #T_f63df_row10_col3, #T_f63df_row10_col4, #T_f63df_row10_col5, #T_f63df_row10_col6 {\n",
       "  background: yellow;\n",
       "}\n",
       "</style>\n",
       "<table id=\"T_f63df\">\n",
       "  <thead>\n",
       "    <tr>\n",
       "      <th class=\"blank level0\" >&nbsp;</th>\n",
       "      <th id=\"T_f63df_level0_col0\" class=\"col_heading level0 col0\" >Accuracy</th>\n",
       "      <th id=\"T_f63df_level0_col1\" class=\"col_heading level0 col1\" >AUC</th>\n",
       "      <th id=\"T_f63df_level0_col2\" class=\"col_heading level0 col2\" >Recall</th>\n",
       "      <th id=\"T_f63df_level0_col3\" class=\"col_heading level0 col3\" >Prec.</th>\n",
       "      <th id=\"T_f63df_level0_col4\" class=\"col_heading level0 col4\" >F1</th>\n",
       "      <th id=\"T_f63df_level0_col5\" class=\"col_heading level0 col5\" >Kappa</th>\n",
       "      <th id=\"T_f63df_level0_col6\" class=\"col_heading level0 col6\" >MCC</th>\n",
       "    </tr>\n",
       "    <tr>\n",
       "      <th class=\"index_name level0\" >Fold</th>\n",
       "      <th class=\"blank col0\" >&nbsp;</th>\n",
       "      <th class=\"blank col1\" >&nbsp;</th>\n",
       "      <th class=\"blank col2\" >&nbsp;</th>\n",
       "      <th class=\"blank col3\" >&nbsp;</th>\n",
       "      <th class=\"blank col4\" >&nbsp;</th>\n",
       "      <th class=\"blank col5\" >&nbsp;</th>\n",
       "      <th class=\"blank col6\" >&nbsp;</th>\n",
       "    </tr>\n",
       "  </thead>\n",
       "  <tbody>\n",
       "    <tr>\n",
       "      <th id=\"T_f63df_level0_row0\" class=\"row_heading level0 row0\" >0</th>\n",
       "      <td id=\"T_f63df_row0_col0\" class=\"data row0 col0\" >0.8667</td>\n",
       "      <td id=\"T_f63df_row0_col1\" class=\"data row0 col1\" >0.6020</td>\n",
       "      <td id=\"T_f63df_row0_col2\" class=\"data row0 col2\" >0.0000</td>\n",
       "      <td id=\"T_f63df_row0_col3\" class=\"data row0 col3\" >0.0000</td>\n",
       "      <td id=\"T_f63df_row0_col4\" class=\"data row0 col4\" >0.0000</td>\n",
       "      <td id=\"T_f63df_row0_col5\" class=\"data row0 col5\" >0.0000</td>\n",
       "      <td id=\"T_f63df_row0_col6\" class=\"data row0 col6\" >0.0000</td>\n",
       "    </tr>\n",
       "    <tr>\n",
       "      <th id=\"T_f63df_level0_row1\" class=\"row_heading level0 row1\" >1</th>\n",
       "      <td id=\"T_f63df_row1_col0\" class=\"data row1 col0\" >0.8667</td>\n",
       "      <td id=\"T_f63df_row1_col1\" class=\"data row1 col1\" >0.5794</td>\n",
       "      <td id=\"T_f63df_row1_col2\" class=\"data row1 col2\" >0.0000</td>\n",
       "      <td id=\"T_f63df_row1_col3\" class=\"data row1 col3\" >0.0000</td>\n",
       "      <td id=\"T_f63df_row1_col4\" class=\"data row1 col4\" >0.0000</td>\n",
       "      <td id=\"T_f63df_row1_col5\" class=\"data row1 col5\" >0.0000</td>\n",
       "      <td id=\"T_f63df_row1_col6\" class=\"data row1 col6\" >0.0000</td>\n",
       "    </tr>\n",
       "    <tr>\n",
       "      <th id=\"T_f63df_level0_row2\" class=\"row_heading level0 row2\" >2</th>\n",
       "      <td id=\"T_f63df_row2_col0\" class=\"data row2 col0\" >0.8667</td>\n",
       "      <td id=\"T_f63df_row2_col1\" class=\"data row2 col1\" >0.6019</td>\n",
       "      <td id=\"T_f63df_row2_col2\" class=\"data row2 col2\" >0.0000</td>\n",
       "      <td id=\"T_f63df_row2_col3\" class=\"data row2 col3\" >0.0000</td>\n",
       "      <td id=\"T_f63df_row2_col4\" class=\"data row2 col4\" >0.0000</td>\n",
       "      <td id=\"T_f63df_row2_col5\" class=\"data row2 col5\" >0.0000</td>\n",
       "      <td id=\"T_f63df_row2_col6\" class=\"data row2 col6\" >0.0000</td>\n",
       "    </tr>\n",
       "    <tr>\n",
       "      <th id=\"T_f63df_level0_row3\" class=\"row_heading level0 row3\" >3</th>\n",
       "      <td id=\"T_f63df_row3_col0\" class=\"data row3 col0\" >0.8667</td>\n",
       "      <td id=\"T_f63df_row3_col1\" class=\"data row3 col1\" >0.6232</td>\n",
       "      <td id=\"T_f63df_row3_col2\" class=\"data row3 col2\" >0.0000</td>\n",
       "      <td id=\"T_f63df_row3_col3\" class=\"data row3 col3\" >0.0000</td>\n",
       "      <td id=\"T_f63df_row3_col4\" class=\"data row3 col4\" >0.0000</td>\n",
       "      <td id=\"T_f63df_row3_col5\" class=\"data row3 col5\" >0.0000</td>\n",
       "      <td id=\"T_f63df_row3_col6\" class=\"data row3 col6\" >0.0000</td>\n",
       "    </tr>\n",
       "    <tr>\n",
       "      <th id=\"T_f63df_level0_row4\" class=\"row_heading level0 row4\" >4</th>\n",
       "      <td id=\"T_f63df_row4_col0\" class=\"data row4 col0\" >0.8667</td>\n",
       "      <td id=\"T_f63df_row4_col1\" class=\"data row4 col1\" >0.6605</td>\n",
       "      <td id=\"T_f63df_row4_col2\" class=\"data row4 col2\" >0.0000</td>\n",
       "      <td id=\"T_f63df_row4_col3\" class=\"data row4 col3\" >0.0000</td>\n",
       "      <td id=\"T_f63df_row4_col4\" class=\"data row4 col4\" >0.0000</td>\n",
       "      <td id=\"T_f63df_row4_col5\" class=\"data row4 col5\" >0.0000</td>\n",
       "      <td id=\"T_f63df_row4_col6\" class=\"data row4 col6\" >0.0000</td>\n",
       "    </tr>\n",
       "    <tr>\n",
       "      <th id=\"T_f63df_level0_row5\" class=\"row_heading level0 row5\" >5</th>\n",
       "      <td id=\"T_f63df_row5_col0\" class=\"data row5 col0\" >0.8667</td>\n",
       "      <td id=\"T_f63df_row5_col1\" class=\"data row5 col1\" >0.6183</td>\n",
       "      <td id=\"T_f63df_row5_col2\" class=\"data row5 col2\" >0.0000</td>\n",
       "      <td id=\"T_f63df_row5_col3\" class=\"data row5 col3\" >0.0000</td>\n",
       "      <td id=\"T_f63df_row5_col4\" class=\"data row5 col4\" >0.0000</td>\n",
       "      <td id=\"T_f63df_row5_col5\" class=\"data row5 col5\" >0.0000</td>\n",
       "      <td id=\"T_f63df_row5_col6\" class=\"data row5 col6\" >0.0000</td>\n",
       "    </tr>\n",
       "    <tr>\n",
       "      <th id=\"T_f63df_level0_row6\" class=\"row_heading level0 row6\" >6</th>\n",
       "      <td id=\"T_f63df_row6_col0\" class=\"data row6 col0\" >0.8667</td>\n",
       "      <td id=\"T_f63df_row6_col1\" class=\"data row6 col1\" >0.5930</td>\n",
       "      <td id=\"T_f63df_row6_col2\" class=\"data row6 col2\" >0.0000</td>\n",
       "      <td id=\"T_f63df_row6_col3\" class=\"data row6 col3\" >0.0000</td>\n",
       "      <td id=\"T_f63df_row6_col4\" class=\"data row6 col4\" >0.0000</td>\n",
       "      <td id=\"T_f63df_row6_col5\" class=\"data row6 col5\" >0.0000</td>\n",
       "      <td id=\"T_f63df_row6_col6\" class=\"data row6 col6\" >0.0000</td>\n",
       "    </tr>\n",
       "    <tr>\n",
       "      <th id=\"T_f63df_level0_row7\" class=\"row_heading level0 row7\" >7</th>\n",
       "      <td id=\"T_f63df_row7_col0\" class=\"data row7 col0\" >0.8641</td>\n",
       "      <td id=\"T_f63df_row7_col1\" class=\"data row7 col1\" >0.6145</td>\n",
       "      <td id=\"T_f63df_row7_col2\" class=\"data row7 col2\" >0.0000</td>\n",
       "      <td id=\"T_f63df_row7_col3\" class=\"data row7 col3\" >0.0000</td>\n",
       "      <td id=\"T_f63df_row7_col4\" class=\"data row7 col4\" >0.0000</td>\n",
       "      <td id=\"T_f63df_row7_col5\" class=\"data row7 col5\" >0.0000</td>\n",
       "      <td id=\"T_f63df_row7_col6\" class=\"data row7 col6\" >0.0000</td>\n",
       "    </tr>\n",
       "    <tr>\n",
       "      <th id=\"T_f63df_level0_row8\" class=\"row_heading level0 row8\" >8</th>\n",
       "      <td id=\"T_f63df_row8_col0\" class=\"data row8 col0\" >0.8641</td>\n",
       "      <td id=\"T_f63df_row8_col1\" class=\"data row8 col1\" >0.6355</td>\n",
       "      <td id=\"T_f63df_row8_col2\" class=\"data row8 col2\" >0.0000</td>\n",
       "      <td id=\"T_f63df_row8_col3\" class=\"data row8 col3\" >0.0000</td>\n",
       "      <td id=\"T_f63df_row8_col4\" class=\"data row8 col4\" >0.0000</td>\n",
       "      <td id=\"T_f63df_row8_col5\" class=\"data row8 col5\" >0.0000</td>\n",
       "      <td id=\"T_f63df_row8_col6\" class=\"data row8 col6\" >0.0000</td>\n",
       "    </tr>\n",
       "    <tr>\n",
       "      <th id=\"T_f63df_level0_row9\" class=\"row_heading level0 row9\" >9</th>\n",
       "      <td id=\"T_f63df_row9_col0\" class=\"data row9 col0\" >0.8641</td>\n",
       "      <td id=\"T_f63df_row9_col1\" class=\"data row9 col1\" >0.6182</td>\n",
       "      <td id=\"T_f63df_row9_col2\" class=\"data row9 col2\" >0.0000</td>\n",
       "      <td id=\"T_f63df_row9_col3\" class=\"data row9 col3\" >0.0000</td>\n",
       "      <td id=\"T_f63df_row9_col4\" class=\"data row9 col4\" >0.0000</td>\n",
       "      <td id=\"T_f63df_row9_col5\" class=\"data row9 col5\" >0.0000</td>\n",
       "      <td id=\"T_f63df_row9_col6\" class=\"data row9 col6\" >0.0000</td>\n",
       "    </tr>\n",
       "    <tr>\n",
       "      <th id=\"T_f63df_level0_row10\" class=\"row_heading level0 row10\" >Mean</th>\n",
       "      <td id=\"T_f63df_row10_col0\" class=\"data row10 col0\" >0.8659</td>\n",
       "      <td id=\"T_f63df_row10_col1\" class=\"data row10 col1\" >0.6147</td>\n",
       "      <td id=\"T_f63df_row10_col2\" class=\"data row10 col2\" >0.0000</td>\n",
       "      <td id=\"T_f63df_row10_col3\" class=\"data row10 col3\" >0.0000</td>\n",
       "      <td id=\"T_f63df_row10_col4\" class=\"data row10 col4\" >0.0000</td>\n",
       "      <td id=\"T_f63df_row10_col5\" class=\"data row10 col5\" >0.0000</td>\n",
       "      <td id=\"T_f63df_row10_col6\" class=\"data row10 col6\" >0.0000</td>\n",
       "    </tr>\n",
       "    <tr>\n",
       "      <th id=\"T_f63df_level0_row11\" class=\"row_heading level0 row11\" >Std</th>\n",
       "      <td id=\"T_f63df_row11_col0\" class=\"data row11 col0\" >0.0012</td>\n",
       "      <td id=\"T_f63df_row11_col1\" class=\"data row11 col1\" >0.0216</td>\n",
       "      <td id=\"T_f63df_row11_col2\" class=\"data row11 col2\" >0.0000</td>\n",
       "      <td id=\"T_f63df_row11_col3\" class=\"data row11 col3\" >0.0000</td>\n",
       "      <td id=\"T_f63df_row11_col4\" class=\"data row11 col4\" >0.0000</td>\n",
       "      <td id=\"T_f63df_row11_col5\" class=\"data row11 col5\" >0.0000</td>\n",
       "      <td id=\"T_f63df_row11_col6\" class=\"data row11 col6\" >0.0000</td>\n",
       "    </tr>\n",
       "  </tbody>\n",
       "</table>\n"
      ],
      "text/plain": [
       "<pandas.io.formats.style.Styler at 0x1e2097bb100>"
      ]
     },
     "metadata": {},
     "output_type": "display_data"
    },
    {
     "data": {
      "application/vnd.jupyter.widget-view+json": {
       "model_id": "",
       "version_major": 2,
       "version_minor": 0
      },
      "text/plain": [
       "Processing:   0%|          | 0/6 [00:00<?, ?it/s]"
      ]
     },
     "metadata": {},
     "output_type": "display_data"
    }
   ],
   "source": [
    "GBC_boosted=ensemble_model(LogisticRegression,method='Boosting')"
   ]
  },
  {
   "cell_type": "code",
   "execution_count": 50,
   "id": "63ae8082",
   "metadata": {},
   "outputs": [
    {
     "data": {
      "application/vnd.jupyter.widget-view+json": {
       "model_id": "ca735e6402504d798df19b9f7b4c79e3",
       "version_major": 2,
       "version_minor": 0
      },
      "text/plain": [
       "interactive(children=(ToggleButtons(description='Plot Type:', icons=('',), options=(('Pipeline Plot', 'pipelin…"
      ]
     },
     "metadata": {},
     "output_type": "display_data"
    }
   ],
   "source": [
    "evaluate_model(LogisticRegression)"
   ]
  },
  {
   "cell_type": "code",
   "execution_count": 51,
   "id": "82d20b59",
   "metadata": {},
   "outputs": [
    {
     "data": {
      "text/html": [],
      "text/plain": [
       "<IPython.core.display.HTML object>"
      ]
     },
     "metadata": {},
     "output_type": "display_data"
    },
    {
     "data": {
      "image/png": "[encoded data removed]",
      "text/plain": [
       "<Figure size 800x500 with 1 Axes>"
      ]
     },
     "metadata": {},
     "output_type": "display_data"
    }
   ],
   "source": [
    "plot_model(LogisticRegression,plot=\"feature\")"
   ]
  },
  {
   "cell_type": "code",
   "execution_count": 52,
   "id": "e4faf3c3",
   "metadata": {},
   "outputs": [
    {
     "data": {
      "text/html": [],
      "text/plain": [
       "<IPython.core.display.HTML object>"
      ]
     },
     "metadata": {},
     "output_type": "display_data"
    },
    {
     "data": {
      "image/png": "[encoded data removed]",
      "text/plain": [
       "<Figure size 800x550 with 1 Axes>"
      ]
     },
     "metadata": {},
     "output_type": "display_data"
    }
   ],
   "source": [
    "plot_model(LogisticRegression,plot=\"learning\")"
   ]
  },
  {
   "cell_type": "code",
   "execution_count": null,
   "id": "b800fff6",
   "metadata": {},
   "outputs": [],
   "source": []
  }
 ],
 "metadata": {
  "kernelspec": {
   "display_name": "Python 3 (ipykernel)",
   "language": "python",
   "name": "python3"
  },
  "language_info": {
   "codemirror_mode": {
    "name": "ipython",
    "version": 3
   },
   "file_extension": ".py",
   "mimetype": "text/x-python",
   "name": "python",
   "nbconvert_exporter": "python",
   "pygments_lexer": "ipython3",
   "version": "3.9.13"
  }
 },
 "nbformat": 4,
 "nbformat_minor": 5
}
